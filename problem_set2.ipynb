{
 "cells": [
  {
   "cell_type": "markdown",
   "metadata": {},
   "source": [
    "# Problem set 2: Machine Learning 2024.\n",
    "## Alumnos: Ara Francisco, Corradi Valentin, Di Placido Pedro."
   ]
  },
  {
   "cell_type": "code",
   "execution_count": 1,
   "metadata": {},
   "outputs": [],
   "source": [
    "import numpy as np\n",
    "import pandas as pd"
   ]
  },
  {
   "cell_type": "markdown",
   "metadata": {},
   "source": [
    "## General Instructions\n",
    "\n",
    "El principal objetivo es construir un modelo que prediga la pobreza de los hogares. Un hogar es clasificado según la siguiente función indicadora:\n",
    "\n",
    "$$\n",
    "poor = I(Inc < Pl)\n",
    "$$\n",
    "\n",
    "Donde I indica si los ingresos de la familia están por debajo de cierto umbral.\n",
    "\n",
    "Entonces, podemos seguir 2 caminos para hacer esta clasificación:\n",
    "\n",
    "1 - Tomarlo como un problema de clasificación, donde se prediga 0 si no es pobre y 1 si lo es\n",
    "\n",
    "2 - Predecir el ingreso, y luego fijarse si esta por debajo o por encima del umbral de pobreza.\n",
    "\n",
    "\n"
   ]
  },
  {
   "cell_type": "markdown",
   "metadata": {},
   "source": [
    "## Introduction \n",
    "\n"
   ]
  },
  {
   "cell_type": "code",
   "execution_count": 12,
   "metadata": {},
   "outputs": [
    {
     "name": "stdout",
     "output_type": "stream",
     "text": [
      "['mlunlp-2024-ps-2/', '__MACOSX/._mlunlp-2024-ps-2', 'mlunlp-2024-ps-2/train_hogares.csv', '__MACOSX/mlunlp-2024-ps-2/._train_hogares.csv', 'mlunlp-2024-ps-2/ddi-documentation-spanish-608.pdf', '__MACOSX/mlunlp-2024-ps-2/._ddi-documentation-spanish-608.pdf', 'mlunlp-2024-ps-2/test_personas.csv', '__MACOSX/mlunlp-2024-ps-2/._test_personas.csv', 'mlunlp-2024-ps-2/train_personas.csv', '__MACOSX/mlunlp-2024-ps-2/._train_personas.csv', 'mlunlp-2024-ps-2/test_hogares.csv', '__MACOSX/mlunlp-2024-ps-2/._test_hogares.csv', 'mlunlp-2024-ps-2/sample_submission.csv', '__MACOSX/mlunlp-2024-ps-2/._sample_submission.csv']\n"
     ]
    }
   ],
   "source": [
    "import zipfile\n",
    "\n",
    "zip_path = \"mlunlp-2024-ps-2.zip\"\n",
    "\n",
    "with zipfile.ZipFile(zip_path, 'r') as zip_ref:\n",
    "    # Listar todos los archivos dentro del ZIP\n",
    "    print(zip_ref.namelist())"
   ]
  },
  {
   "cell_type": "code",
   "execution_count": 13,
   "metadata": {},
   "outputs": [
    {
     "name": "stdout",
     "output_type": "stream",
     "text": [
      "Datos de train_hogares:\n",
      "                         id  Clase   Dominio  P5000  P5010  P5090  P5100  \\\n",
      "0  8d0193e328305a042001a35f      1  MEDELLIN      4      2      1    NaN   \n",
      "1  cf7491d7f2cc9c216bd009e7      1  MEDELLIN      5      4      3    NaN   \n",
      "2  d90a57f64d2a84dbacbed2a5      1  MEDELLIN      4      2      1    NaN   \n",
      "3  db34e387a94a783188ab3a33      1  MEDELLIN      3      1      1    NaN   \n",
      "4  97bbef785824746ecab09c6f      1  MEDELLIN      4      3      3    NaN   \n",
      "\n",
      "      P5130     P5140  Nper  ...       Ingpcug             Li            Lp  \\\n",
      "0  400000.0       NaN     5  ...  5.816661e+05  122809.534158  289878.24715   \n",
      "1       NaN  250000.0     4  ...  1.612500e+05  122809.534158  289878.24715   \n",
      "2  700000.0       NaN     3  ...  2.000000e+06  122809.534158  289878.24715   \n",
      "3  450000.0       NaN     1  ...  2.450000e+06  122809.534158  289878.24715   \n",
      "4       NaN  500000.0     5  ...  2.520000e+05  122809.534158  289878.24715   \n",
      "\n",
      "   Pobre  Indigente  Npobres  Nindigentes       Fex_c  Depto    Fex_dpto  \n",
      "0      0          0        0            0  127.222038      5  146.251790  \n",
      "1      1          0        4            0  115.866093      5   93.080952  \n",
      "2      0          0        0            0  100.123276      5   89.637086  \n",
      "3      0          0        0            0  108.829812      5   95.584376  \n",
      "4      1          0        5            0  110.412859      5  124.560515  \n",
      "\n",
      "[5 rows x 23 columns]\n",
      "Datos de train_personas:\n",
      "                         id  Orden  Clase   Dominio  Estrato1  P6020  P6040  \\\n",
      "0  8d0193e328305a042001a35f      2      1  MEDELLIN         2      2     38   \n",
      "1  8d0193e328305a042001a35f      5      1  MEDELLIN         2      1      3   \n",
      "2  8d0193e328305a042001a35f      1      1  MEDELLIN         2      1     41   \n",
      "3  8d0193e328305a042001a35f      4      1  MEDELLIN         2      1      3   \n",
      "4  8d0193e328305a042001a35f      3      1  MEDELLIN         2      1     11   \n",
      "\n",
      "   P6050  P6090  P6100  ...  Iof2es  Iof3hes  Iof3ies  Iof6es      Ingtotob  \\\n",
      "0      2    1.0    1.0  ...     NaN      NaN      NaN     NaN  1.109190e+06   \n",
      "1      3    NaN    NaN  ...     NaN      NaN      NaN     NaN           NaN   \n",
      "2      1    1.0    1.0  ...     NaN      NaN      NaN     NaN  1.399140e+06   \n",
      "3      3    NaN    NaN  ...     NaN      NaN      NaN     NaN           NaN   \n",
      "4      3    NaN    NaN  ...     NaN      NaN      NaN     NaN           NaN   \n",
      "\n",
      "   Ingtotes        Ingtot       Fex_c  Depto   Fex_dpto  \n",
      "0       NaN  1.109190e+06  127.222038      5  146.25179  \n",
      "1       NaN           NaN  127.222038      5  146.25179  \n",
      "2       NaN  1.399140e+06  127.222038      5  146.25179  \n",
      "3       NaN           NaN  127.222038      5  146.25179  \n",
      "4       NaN           NaN  127.222038      5  146.25179  \n",
      "\n",
      "[5 rows x 135 columns]\n"
     ]
    }
   ],
   "source": [
    "import zipfile\n",
    "import pandas as pd\n",
    "\n",
    "# Ruta al archivo ZIP\n",
    "zip_path = \"mlunlp-2024-ps-2.zip\"\n",
    "\n",
    "# Leer archivos directamente desde el ZIP\n",
    "with zipfile.ZipFile(zip_path, 'r') as zip_ref:\n",
    "    # Cargar los datos usando las rutas correctas\n",
    "    with zip_ref.open('mlunlp-2024-ps-2/train_hogares.csv') as train_hogares_file:\n",
    "        train_hogares = pd.read_csv(train_hogares_file)\n",
    "    with zip_ref.open('mlunlp-2024-ps-2/train_personas.csv') as train_personas_file:\n",
    "        train_personas = pd.read_csv(train_personas_file)\n",
    "    with zip_ref.open('mlunlp-2024-ps-2/test_hogares.csv') as test_hogares_file:\n",
    "        test_hogares = pd.read_csv(test_hogares_file)\n",
    "    with zip_ref.open('mlunlp-2024-ps-2/test_personas.csv') as test_personas_file:\n",
    "        test_personas = pd.read_csv(test_personas_file)\n",
    "    with zip_ref.open('mlunlp-2024-ps-2/sample_submission.csv') as sample_submission_file:\n",
    "        sample_submission = pd.read_csv(sample_submission_file)\n",
    "\n",
    "# Inspeccionar los datos\n",
    "print(\"Datos de train_hogares:\")\n",
    "print(train_hogares.head())\n",
    "print(\"Datos de train_personas:\")\n",
    "print(train_personas.head())\n"
   ]
  },
  {
   "cell_type": "code",
   "execution_count": 16,
   "metadata": {},
   "outputs": [
    {
     "name": "stdout",
     "output_type": "stream",
     "text": [
      "Dimensión train_all: (543109, 157), Dimensión test_all: (219644, 78)\n"
     ]
    }
   ],
   "source": [
    "# Matcheamos lo individual con el hogar. previamente le agregamos los sufijos _p o _h para saber su base original.\n",
    "\n",
    "# Personas\n",
    "train_personas = train_personas.rename(columns=lambda col: f\"{col}_p\" if col != \"id\" else col)\n",
    "train_hogares = train_hogares.rename(columns=lambda col: f\"{col}_h\" if col != \"id\" else col)\n",
    "train_all = train_personas.merge(train_hogares, on=\"id\", how=\"inner\")  \n",
    "\n",
    "#Hogares\n",
    "test_personas = test_personas.rename(columns=lambda col: f\"{col}_p\" if col != \"id\" else col)\n",
    "test_hogares = test_hogares.rename(columns=lambda col: f\"{col}_h\" if col != \"id\" else col)\n",
    "test_all = test_personas.merge(test_hogares, on=\"id\", how=\"inner\")\n",
    "\n",
    "print(f'Dimensión train_all: {train_all.shape}, Dimensión test_all: {test_all.shape}')"
   ]
  },
  {
   "cell_type": "code",
   "execution_count": null,
   "metadata": {},
   "outputs": [
    {
     "name": "stdout",
     "output_type": "stream",
     "text": [
      "(164960, 23)\n",
      "(543109, 135)\n",
      "(66168, 16)\n",
      "(219644, 63)\n"
     ]
    }
   ],
   "source": [
    "print(train_hogares.shape)\n",
    "print(train_personas.shape)\n",
    "print(test_hogares.shape)\n",
    "print(test_personas.shape)"
   ]
  },
  {
   "cell_type": "markdown",
   "metadata": {},
   "source": [
    "Vemos que la dimensión de los df difiere. La muestra de testeo no tiene las variables relacionadas al ingreso o el indicador de pobreza/indigencia. Esto no debiera afectarnos ya que es la variable que buscamos predecir. Recordemos que un metodo a utilizar es categórico, donde en base a los predictores se clasifica directamente en pobre o no pobre, y el otro es \"indirecto\", donde primero se predice el ingreso y en base a eso se hace luego la clasificación."
   ]
  },
  {
   "cell_type": "code",
   "execution_count": null,
   "metadata": {},
   "outputs": [
    {
     "name": "stdout",
     "output_type": "stream",
     "text": [
      "Index(['id', 'Clase', 'Dominio', 'P5000', 'P5010', 'P5090', 'P5100', 'P5130',\n",
      "       'P5140', 'Nper', 'Npersug', 'Ingtotug', 'Ingtotugarr', 'Ingpcug', 'Li',\n",
      "       'Lp', 'Pobre', 'Indigente', 'Npobres', 'Nindigentes', 'Fex_c', 'Depto',\n",
      "       'Fex_dpto'],\n",
      "      dtype='object')\n",
      "Las variables que difieren en los hogares son: \n",
      "{'Ingtotug', 'Pobre', 'Npobres', 'Ingtotugarr', 'Nindigentes', 'Ingpcug', 'Indigente'}\n",
      "Las variables que difieren en las personas son: \n",
      " {'Iof6es', 'Iof3h', 'Impaes', 'P6585s1a1', 'Iof3i', 'P6590s1', 'P7510s6a1', 'P7500s1a1', 'Cclasnr11', 'Cclasnr6', 'P7472s1', 'P7070', 'Iof6', 'Isaes', 'Iof3hes', 'P6585s4a2', 'P6585s2a1', 'Cclasnr5', 'Ingtotes', 'P6580s1', 'P6580s2', 'Iees', 'P7500s3a1', 'Cclasnr7', 'Iof2es', 'P6630s4a1', 'Estrato1', 'Cclasnr4', 'P6545s2', 'P6630s6a1', 'P6510s1', 'P7500s2a1', 'P6600s1', 'Cclasnr3', 'P7510s3a1', 'P7422s1', 'P6510s2', 'Iof3ies', 'P6585s3a1', 'Imdies', 'Cclasnr2', 'P6585s2a2', 'P7140s2', 'P6500', 'P7140s1', 'P6610s1', 'Ie', 'P6620s1', 'Cclasnr8', 'Ingtotob', 'P550', 'P7500s1', 'P6630s1a1', 'P7510s5a1', 'Ingtot', 'P7510s1a1', 'P7510s2a1', 'P6630s3a1', 'P6585s1a2', 'Iof2', 'P7510s7a1', 'Iof1', 'P6760', 'P6630s2a1', 'Imdi', 'P6585s3a2', 'Iof1es', 'Isa', 'Impa', 'P6750', 'P6545s1', 'P6585s4a1'}\n"
     ]
    }
   ],
   "source": [
    "#print(train_hogares.columns)\n",
    "#print(test_hogares.columns)\n",
    "\n",
    "print(f'Las variables que difieren en los hogares son: \\n{set(train_hogares.columns) - set(test_hogares.columns)}')\n",
    "\n",
    "#print(train_personas.columns)\n",
    "#print(test_personas.columns)\n",
    "\n",
    "print(f'Las variables que difieren en las personas son: \\n {set(train_personas.columns) - set(test_personas.columns)}')"
   ]
  },
  {
   "cell_type": "code",
   "execution_count": 30,
   "metadata": {},
   "outputs": [
    {
     "name": "stdout",
     "output_type": "stream",
     "text": [
      "test per: Index(['id', 'Orden_p', 'Clase_p', 'Dominio_p', 'P6020_p', 'P6040_p',\n",
      "       'P6050_p', 'P6090_p', 'P6100_p', 'P6210_p', 'P6210s1_p', 'P6240_p',\n",
      "       'Oficio_p', 'P6426_p', 'P6430_p', 'P6510_p', 'P6545_p', 'P6580_p',\n",
      "       'P6585s1_p', 'P6585s2_p', 'P6585s3_p', 'P6585s4_p', 'P6590_p',\n",
      "       'P6600_p', 'P6610_p', 'P6620_p', 'P6630s1_p', 'P6630s2_p', 'P6630s3_p',\n",
      "       'P6630s4_p', 'P6630s6_p', 'P6800_p', 'P6870_p', 'P6920_p', 'P7040_p',\n",
      "       'P7045_p', 'P7050_p', 'P7090_p', 'P7110_p', 'P7120_p', 'P7150_p',\n",
      "       'P7160_p', 'P7310_p', 'P7350_p', 'P7422_p', 'P7472_p', 'P7495_p',\n",
      "       'P7500s2_p', 'P7500s3_p', 'P7505_p', 'P7510s1_p', 'P7510s2_p',\n",
      "       'P7510s3_p', 'P7510s5_p', 'P7510s6_p', 'P7510s7_p', 'Pet_p', 'Oc_p',\n",
      "       'Des_p', 'Ina_p', 'Fex_c_p', 'Depto_p', 'Fex_dpto_p'],\n",
      "      dtype='object')\n"
     ]
    }
   ],
   "source": [
    "# print(train_hogares.columns)\n",
    "print(F'test per: {test_personas.columns}')"
   ]
  },
  {
   "cell_type": "code",
   "execution_count": 32,
   "metadata": {},
   "outputs": [
    {
     "data": {
      "text/plain": [
       "np.float64(0.20019398642095054)"
      ]
     },
     "execution_count": 32,
     "metadata": {},
     "output_type": "execute_result"
    }
   ],
   "source": [
    "train_hogares['Pobre_h'].mean()\n"
   ]
  },
  {
   "cell_type": "code",
   "execution_count": null,
   "metadata": {},
   "outputs": [],
   "source": []
  }
 ],
 "metadata": {
  "kernelspec": {
   "display_name": "base",
   "language": "python",
   "name": "python3"
  },
  "language_info": {
   "codemirror_mode": {
    "name": "ipython",
    "version": 3
   },
   "file_extension": ".py",
   "mimetype": "text/x-python",
   "name": "python",
   "nbconvert_exporter": "python",
   "pygments_lexer": "ipython3",
   "version": "3.12.4"
  }
 },
 "nbformat": 4,
 "nbformat_minor": 2
}
