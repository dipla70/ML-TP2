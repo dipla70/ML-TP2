{
 "cells": [
  {
   "cell_type": "markdown",
   "metadata": {},
   "source": [
    "# Problem set 2: Machine Learning 2024.\n",
    "## Alumnos: Ara Francisco, Corradi Valentin, Di Placido Pedro."
   ]
  },
  {
   "cell_type": "code",
   "execution_count": 1,
   "metadata": {},
   "outputs": [],
   "source": [
    "import numpy as np\n",
    "import pandas as pd"
   ]
  },
  {
   "cell_type": "markdown",
   "metadata": {},
   "source": [
    "## General Instructions\n",
    "\n",
    "El principal objetivo es construir un modelo que prediga la pobreza de los hogares. Un hogar es clasificado según la siguiente función indicadora:\n",
    "\n",
    "$$\n",
    "poor = I(Inc < Pl)\n",
    "$$\n",
    "\n",
    "Donde I indica si los ingresos de la familia están por debajo de cierto umbral.\n",
    "\n",
    "Entonces, podemos seguir 2 caminos para hacer esta clasificación:\n",
    "\n",
    "1 - Tomarlo como un problema de clasificación, donde se prediga 0 si no es pobre y 1 si lo es\n",
    "\n",
    "2 - Predecir el ingreso, y luego fijarse si esta por debajo o por encima del umbral de pobreza.\n",
    "\n",
    "\n"
   ]
  },
  {
   "cell_type": "markdown",
   "metadata": {},
   "source": [
    "## Introduction \n",
    "\n"
   ]
  },
  {
   "cell_type": "code",
   "execution_count": 2,
   "metadata": {},
   "outputs": [
    {
     "name": "stdout",
     "output_type": "stream",
     "text": [
      "['mlunlp-2024-ps-2/', '__MACOSX/._mlunlp-2024-ps-2', 'mlunlp-2024-ps-2/train_hogares.csv', '__MACOSX/mlunlp-2024-ps-2/._train_hogares.csv', 'mlunlp-2024-ps-2/ddi-documentation-spanish-608.pdf', '__MACOSX/mlunlp-2024-ps-2/._ddi-documentation-spanish-608.pdf', 'mlunlp-2024-ps-2/test_personas.csv', '__MACOSX/mlunlp-2024-ps-2/._test_personas.csv', 'mlunlp-2024-ps-2/train_personas.csv', '__MACOSX/mlunlp-2024-ps-2/._train_personas.csv', 'mlunlp-2024-ps-2/test_hogares.csv', '__MACOSX/mlunlp-2024-ps-2/._test_hogares.csv', 'mlunlp-2024-ps-2/sample_submission.csv', '__MACOSX/mlunlp-2024-ps-2/._sample_submission.csv']\n"
     ]
    }
   ],
   "source": [
    "import zipfile\n",
    "\n",
    "zip_path = \"mlunlp-2024-ps-2.zip\"\n",
    "\n",
    "with zipfile.ZipFile(zip_path, 'r') as zip_ref:\n",
    "    # Listar todos los archivos dentro del ZIP\n",
    "    print(zip_ref.namelist())"
   ]
  },
  {
   "cell_type": "code",
   "execution_count": null,
   "metadata": {},
   "outputs": [],
   "source": [
    "# import zipfile\n",
    "import pandas as pd\n",
    "\n",
    "# Ruta al archivo ZIP\n",
    "zip_path = \"mlunlp-2024-ps-2.zip\"\n",
    "\n",
    "# Leer archivos directamente desde el ZIP\n",
    "with zipfile.ZipFile(zip_path, 'r') as zip_ref:\n",
    "    # Cargar los datos usando las rutas correctas\n",
    "    with zip_ref.open('mlunlp-2024-ps-2/train_hogares.csv') as train_hogares_file:\n",
    "        train_hogares = pd.read_csv(train_hogares_file)\n",
    "    with zip_ref.open('mlunlp-2024-ps-2/train_personas.csv') as train_personas_file:\n",
    "        train_personas = pd.read_csv(train_personas_file)\n",
    "    with zip_ref.open('mlunlp-2024-ps-2/test_hogares.csv') as test_hogares_file:\n",
    "        test_hogares = pd.read_csv(test_hogares_file)\n",
    "    with zip_ref.open('mlunlp-2024-ps-2/test_personas.csv') as test_personas_file:\n",
    "        test_personas = pd.read_csv(test_personas_file)\n",
    "    with zip_ref.open('mlunlp-2024-ps-2/sample_submission.csv') as sample_submission_file:\n",
    "        sample_submission = pd.read_csv(sample_submission_file)\n",
    "\n",
    "# Inspeccionar los datos\n",
    "print(\"Datos de train_hogares:\")\n",
    "print(train_hogares.head())\n",
    "print(\"Datos de train_personas:\")\n",
    "print(train_personas.head())\n"
   ]
  },
  {
   "cell_type": "code",
   "execution_count": 564,
   "metadata": {},
   "outputs": [],
   "source": [
    "# Matcheamos lo individual con el hogar. previamente le agregamos los sufijos _p o _h para saber su base original.\n",
    "\n",
    "# # Personas\n",
    "# train_personas = train_personas.rename(columns=lambda col: f\"{col}_p\" if col != \"id\" else col)\n",
    "# train_hogares = train_hogares.rename(columns=lambda col: f\"{col}_h\" if col != \"id\" else col)\n",
    "# train_all = train_personas.merge(train_hogares, on=\"id\", how=\"inner\")  \n",
    "\n",
    "# #Hogares\n",
    "# test_personas = test_personas.rename(columns=lambda col: f\"{col}_p\" if col != \"id\" else col)\n",
    "# test_hogares = test_hogares.rename(columns=lambda col: f\"{col}_h\" if col != \"id\" else col)\n",
    "# test_all = test_personas.merge(test_hogares, on=\"id\", how=\"inner\")\n",
    "\n",
    "# print(f'Dimensión train_all: {train_all.shape}, Dimensión test_all: {test_all.shape}')"
   ]
  },
  {
   "cell_type": "code",
   "execution_count": 565,
   "metadata": {},
   "outputs": [
    {
     "name": "stdout",
     "output_type": "stream",
     "text": [
      "(164960, 23)\n",
      "(543109, 135)\n",
      "(66168, 16)\n",
      "(219644, 63)\n"
     ]
    }
   ],
   "source": [
    "print(train_hogares.shape)\n",
    "print(train_personas.shape)\n",
    "print(test_hogares.shape)\n",
    "print(test_personas.shape)"
   ]
  },
  {
   "cell_type": "markdown",
   "metadata": {},
   "source": [
    "Vemos que la dimensión de los df difiere. La muestra de testeo no tiene las variables relacionadas al ingreso o el indicador de pobreza/indigencia. Esto no debiera afectarnos ya que es la variable que buscamos predecir. Recordemos que un metodo a utilizar es categórico, donde en base a los predictores se clasifica directamente en pobre o no pobre, y el otro es \"indirecto\", donde primero se predice el ingreso y en base a eso se hace luego la clasificación."
   ]
  },
  {
   "cell_type": "code",
   "execution_count": 566,
   "metadata": {},
   "outputs": [
    {
     "name": "stdout",
     "output_type": "stream",
     "text": [
      "Las variables que difieren en los hogares son: \n",
      "{'Ingtotugarr', 'Npobres', 'Ingpcug', 'Ingtotug', 'Nindigentes', 'Pobre', 'Indigente'}\n",
      "Las variables que difieren en las personas son: \n",
      " {'P6545s2', 'P6585s3a2', 'Iof3hes', 'Iof1es', 'P6585s2a2', 'Estrato1', 'Cclasnr2', 'P6510s2', 'P6630s6a1', 'P6580s2', 'Iof3ies', 'P7070', 'Ingtotob', 'P7510s5a1', 'P7500s3a1', 'Cclasnr8', 'P6760', 'Isa', 'Impa', 'Iof3i', 'P7510s1a1', 'Iof2', 'Imdies', 'P7472s1', 'Imdi', 'P6630s2a1', 'Iof6', 'Iof6es', 'P6585s1a2', 'Ie', 'P7500s2a1', 'P6600s1', 'Cclasnr5', 'Iof2es', 'P7500s1a1', 'P6500', 'Ingtot', 'P6750', 'P6610s1', 'P7140s2', 'P7422s1', 'P6620s1', 'Cclasnr11', 'P6590s1', 'P6585s4a2', 'P6630s4a1', 'P6585s4a1', 'Iees', 'P6580s1', 'P6585s2a1', 'Iof1', 'P6585s1a1', 'P7510s3a1', 'P550', 'P6545s1', 'P6630s3a1', 'Isaes', 'P6585s3a1', 'Iof3h', 'Ingtotes', 'P6510s1', 'Cclasnr7', 'P7500s1', 'P7510s7a1', 'P6630s1a1', 'P7510s6a1', 'Impaes', 'Cclasnr4', 'Cclasnr3', 'P7510s2a1', 'Cclasnr6', 'P7140s1'}\n"
     ]
    }
   ],
   "source": [
    "#print(train_hogares.columns)\n",
    "#print(test_hogares.columns)\n",
    "\n",
    "print(f'Las variables que difieren en los hogares son: \\n{set(train_hogares.columns) - set(test_hogares.columns)}')\n",
    "\n",
    "#print(train_personas.columns)\n",
    "#print(test_personas.columns)\n",
    "\n",
    "print(f'Las variables que difieren en las personas son: \\n {set(train_personas.columns) - set(test_personas.columns)}')"
   ]
  },
  {
   "cell_type": "code",
   "execution_count": 567,
   "metadata": {},
   "outputs": [
    {
     "name": "stdout",
     "output_type": "stream",
     "text": [
      "test per: Index(['id', 'Clase', 'Dominio', 'P5000', 'P5010', 'P5090', 'P5100', 'P5130',\n",
      "       'P5140', 'Nper', 'Npersug', 'Ingtotug', 'Ingtotugarr', 'Ingpcug', 'Li',\n",
      "       'Lp', 'Pobre', 'Indigente', 'Npobres', 'Nindigentes', 'Fex_c', 'Depto',\n",
      "       'Fex_dpto'],\n",
      "      dtype='object')\n"
     ]
    }
   ],
   "source": [
    "# print(train_hogares.columns)\n",
    "print(F'test per: {train_hogares.columns}')"
   ]
  },
  {
   "cell_type": "code",
   "execution_count": 4,
   "metadata": {},
   "outputs": [],
   "source": [
    "import seaborn as sns\n",
    "import matplotlib.pyplot as plt"
   ]
  },
  {
   "cell_type": "code",
   "execution_count": 569,
   "metadata": {},
   "outputs": [
    {
     "name": "stdout",
     "output_type": "stream",
     "text": [
      "Variables en train_hogares:\n",
      "Index(['id', 'Clase', 'Dominio', 'P5000', 'P5010', 'P5090', 'P5100', 'P5130',\n",
      "       'P5140', 'Nper', 'Npersug', 'Ingtotug', 'Ingtotugarr', 'Ingpcug', 'Li',\n",
      "       'Lp', 'Pobre', 'Indigente', 'Npobres', 'Nindigentes', 'Fex_c', 'Depto',\n",
      "       'Fex_dpto'],\n",
      "      dtype='object')\n"
     ]
    }
   ],
   "source": [
    "print(\"Variables en train_hogares:\")\n",
    "print(train_hogares.columns)\n"
   ]
  },
  {
   "cell_type": "markdown",
   "metadata": {},
   "source": [
    "## Variables Seleccionadas: Hogares\n",
    "\n",
    "- **`id`**: Identificador único del hogar.\n",
    "- **`Pobre`**: Indicador de pobreza del hogar.\n",
    "- **`Ingpcug`**: Ingreso per cápita del hogar.\n",
    "- **`P5010`**: Número de cuartos donde duermen las personas.\n",
    "- **`P5090`**: Régimen de tenencia de la vivienda (propia, alquilada, etc.).\n",
    "- **`P5130`**: Monto estimado de arriendo.\n",
    "- **`Nper`**: Número de personas en el hogar.\n",
    "- **`Clase`**: Clasificación del hogar (cabecera o resto del área).\n",
    "- **`Fex_c`**: Factor de expansión anualizado.\n"
   ]
  },
  {
   "cell_type": "code",
   "execution_count": 5,
   "metadata": {},
   "outputs": [],
   "source": [
    "columnas_hogares = ['id', 'P5000', 'P5010', 'P5090', 'P5130', 'Nper', 'Ingpcug', 'Clase', 'Fex_c', 'Pobre']\n",
    "train_hogares = train_hogares[columnas_hogares]"
   ]
  },
  {
   "cell_type": "markdown",
   "metadata": {},
   "source": [
    "## Variables Seleccionadas: Personas\n",
    "\n",
    "- **`id`**: Identificador único del individuo.\n",
    "- **`P6020`**: Sexo (1 hombre, 2 mujer).\n",
    "- **`P6040`**: Edad de la persona.\n",
    "- **`P6050`**: Parentezco con el jefe de hogar.\n",
    "- **`P6090`**: Afilación a la seguridad social.\n",
    "- **`P6210`**: Nivel educativo alcanzado.\n",
    "- **`P6430`**: Tipo de empleo\n",
    "- **`P6585s1`**: subsidio por alimentacion. \n",
    "- **`P6585s3a1`**: Subsidio familiar.(sacado)\n",
    "- **`P7040`**: Dummy de ocupación secundaria (1 tiene ,2 no tiene)\n",
    "- **`P7045`**: Horas trabajadas en ocupacion secundaria.\n",
    "- **`P6800`**: Horas trabajadas por semana. (sacado)\n",
    "- **`P6870`**: Numero de empleados de la empresa. (sacado)\n",
    "- **`Ingtot`**: Ingreso total del individuo.\n",
    "- **`Oc`**: Dummy de ocupación."
   ]
  },
  {
   "cell_type": "code",
   "execution_count": 6,
   "metadata": {},
   "outputs": [],
   "source": [
    "# Selección de columnas relevantes incluyendo 'Pobre' para el merge\n",
    "columnas_personas = ['id','Orden', 'P6020', 'P6040','P6050','P6090', 'P6210','P6430','P6585s1','P6585s3a1', 'P7040','P7045','Oc']\n",
    "train_personas = train_personas[columnas_personas]"
   ]
  },
  {
   "cell_type": "code",
   "execution_count": 7,
   "metadata": {},
   "outputs": [
    {
     "name": "stdout",
     "output_type": "stream",
     "text": [
      "                         id  P6585s1  P6585s3a1  recibio_subsidio\n",
      "0  8d0193e328305a042001a35f      2.0    75000.0                 1\n",
      "1  8d0193e328305a042001a35f      NaN        NaN                 0\n",
      "2  8d0193e328305a042001a35f      2.0    81000.0                 1\n",
      "3  8d0193e328305a042001a35f      NaN        NaN                 0\n",
      "4  8d0193e328305a042001a35f      NaN        NaN                 0\n"
     ]
    }
   ],
   "source": [
    "# Crear una columna dummy que indique si el hogar recibió subsidio\n",
    "train_personas['recibio_subsidio'] = ((train_personas['P6585s1'] > 0) | (train_personas['P6585s3a1'] > 0)).astype(int)\n",
    "\n",
    "# Mostrar las primeras filas para verificar\n",
    "print(train_personas[['id', 'P6585s1', 'P6585s3a1', 'recibio_subsidio']].head())"
   ]
  },
  {
   "cell_type": "code",
   "execution_count": 8,
   "metadata": {},
   "outputs": [],
   "source": [
    "# Ordenar la base de hogares por 'id'\n",
    "train_hogares = train_hogares.sort_values(by='id')\n",
    "\n",
    "# Ordenar la base de personas por 'id' y 'orden'\n",
    "train_personas = train_personas.sort_values(by=['id', 'Orden'])"
   ]
  },
  {
   "cell_type": "code",
   "execution_count": null,
   "metadata": {},
   "outputs": [
    {
     "name": "stdout",
     "output_type": "stream",
     "text": [
      "                              id  P6020  prop_sexo\n",
      "115620  00004a3f76ed8c33d84a5c70      2        0.4\n",
      "115621  00004a3f76ed8c33d84a5c70      1        0.4\n",
      "115622  00004a3f76ed8c33d84a5c70      2        0.4\n",
      "115618  00004a3f76ed8c33d84a5c70      2        0.4\n",
      "115619  00004a3f76ed8c33d84a5c70      1        0.4\n"
     ]
    }
   ],
   "source": [
    "# Calculate the proportion of men in each household\n",
    "train_personas['prop_sexo'] = train_personas.groupby('id')['P6020'].transform(lambda x: (x == 1).sum() / len(x))\n",
    "\n",
    "# Display the first few rows to verify the calculation\n",
    "print(train_personas[['id', 'P6020', 'prop_sexo']].head()) #No genera ningún NaN"
   ]
  },
  {
   "cell_type": "markdown",
   "metadata": {},
   "source": [
    "VER QUE HACEMOS SI GENERA ALGUNOS NAN"
   ]
  },
  {
   "cell_type": "code",
   "execution_count": 575,
   "metadata": {},
   "outputs": [
    {
     "name": "stdout",
     "output_type": "stream",
     "text": [
      "                              id  ocup_jefe\n",
      "115620  00004a3f76ed8c33d84a5c70        NaN\n",
      "115621  00004a3f76ed8c33d84a5c70        NaN\n",
      "115622  00004a3f76ed8c33d84a5c70        NaN\n",
      "115618  00004a3f76ed8c33d84a5c70        NaN\n",
      "115619  00004a3f76ed8c33d84a5c70        NaN\n"
     ]
    }
   ],
   "source": [
    "# Filtrar la fila correspondiente al jefe del hogar (P6050 == 1)\n",
    "jefe_hogar = train_personas[train_personas['P6050'] == 1]\n",
    "\n",
    "# Crear un diccionario con la relación 'id' del hogar y la posición ocupacional del jefe (P6430)\n",
    "jefe_ocupacion = jefe_hogar.set_index('id')['P6430'].to_dict()\n",
    "\n",
    "# Asignar la posición ocupacional del jefe a la nueva variable 'ocup_jefe' en la train_personas\n",
    "train_personas['ocup_jefe'] = train_personas['id'].map(jefe_ocupacion)\n",
    "\n",
    "# Mostrar las primeras filas para verificar\n",
    "print(train_personas[['id', 'ocup_jefe']].head(5))"
   ]
  },
  {
   "cell_type": "code",
   "execution_count": 576,
   "metadata": {},
   "outputs": [
    {
     "name": "stdout",
     "output_type": "stream",
     "text": [
      "                              id  ocupada  prop_ocup\n",
      "115620  00004a3f76ed8c33d84a5c70        0        0.2\n",
      "115621  00004a3f76ed8c33d84a5c70        1        0.2\n",
      "115622  00004a3f76ed8c33d84a5c70        0        0.2\n",
      "115618  00004a3f76ed8c33d84a5c70        0        0.2\n",
      "115619  00004a3f76ed8c33d84a5c70        0        0.2\n"
     ]
    }
   ],
   "source": [
    "# Crear una columna que indique si la persona está ocupada (1 si está ocupada, 0 si no)\n",
    "train_personas['ocupada'] = (train_personas['Oc'] == 1).astype(int)\n",
    "\n",
    "# Calcular la proporción de personas ocupadas por hogar\n",
    "train_personas['prop_ocup'] = train_personas.groupby('id')['ocupada'].transform('mean')\n",
    "\n",
    "# Mostrar las primeras filas para verificar\n",
    "print(train_personas[['id', 'ocupada', 'prop_ocup']].head(5))"
   ]
  },
  {
   "cell_type": "code",
   "execution_count": 577,
   "metadata": {},
   "outputs": [
    {
     "name": "stdout",
     "output_type": "stream",
     "text": [
      "                              id  P6040  mayor_10  prop_mayores10\n",
      "115620  00004a3f76ed8c33d84a5c70     31         1             0.6\n",
      "115621  00004a3f76ed8c33d84a5c70     36         1             0.6\n",
      "115622  00004a3f76ed8c33d84a5c70     15         1             0.6\n",
      "115618  00004a3f76ed8c33d84a5c70      6         0             0.6\n",
      "115619  00004a3f76ed8c33d84a5c70      3         0             0.6\n"
     ]
    }
   ],
   "source": [
    "# Crear una columna que indique si la persona es mayor a 10 años (1 si es mayor a 10 años, 0 si no)\n",
    "train_personas['mayor_10'] = (train_personas['P6040'] > 10).astype(int)\n",
    "\n",
    "# Calcular la proporción de personas mayores a 10 años por hogar\n",
    "train_personas['prop_mayores10'] = train_personas.groupby('id')['mayor_10'].transform('mean')\n",
    "\n",
    "# Mostrar las primeras filas para verificar\n",
    "print(train_personas[['id', 'P6040', 'mayor_10', 'prop_mayores10']].head())"
   ]
  },
  {
   "cell_type": "markdown",
   "metadata": {},
   "source": [
    "revisar nan de la variable P6090"
   ]
  },
  {
   "cell_type": "code",
   "execution_count": 578,
   "metadata": {},
   "outputs": [
    {
     "name": "stdout",
     "output_type": "stream",
     "text": [
      "                              id  P6090  afiliado  prop_afiliado\n",
      "115620  00004a3f76ed8c33d84a5c70    1.0         1            0.6\n",
      "115621  00004a3f76ed8c33d84a5c70    1.0         1            0.6\n",
      "115622  00004a3f76ed8c33d84a5c70    1.0         1            0.6\n",
      "115618  00004a3f76ed8c33d84a5c70    NaN         0            0.6\n",
      "115619  00004a3f76ed8c33d84a5c70    NaN         0            0.6\n"
     ]
    }
   ],
   "source": [
    "# Filter out rows where P6090 is 9\n",
    "train_personas = train_personas[train_personas['P6090'] != 9]\n",
    "\n",
    "# Create a column that indicates if the person is affiliated with social security (1 if affiliated, 0 if not)\n",
    "train_personas['afiliado'] = (train_personas['P6090'] == 1).astype(int)\n",
    "\n",
    "# Calculate the proportion of affiliated individuals in each household\n",
    "train_personas['prop_afiliado'] = train_personas.groupby('id')['afiliado'].transform('mean')\n",
    "\n",
    "# Display the first few rows to verify the calculation\n",
    "print(train_personas[['id', 'P6090', 'afiliado', 'prop_afiliado']].head())"
   ]
  },
  {
   "cell_type": "code",
   "execution_count": 579,
   "metadata": {},
   "outputs": [
    {
     "name": "stdout",
     "output_type": "stream",
     "text": [
      "                              id  P7040  ocupacion_secundaria  prop_ocup2\n",
      "115620  00004a3f76ed8c33d84a5c70    NaN                     0         0.0\n",
      "115621  00004a3f76ed8c33d84a5c70    2.0                     0         0.0\n",
      "115622  00004a3f76ed8c33d84a5c70    NaN                     0         0.0\n",
      "115618  00004a3f76ed8c33d84a5c70    NaN                     0         0.0\n",
      "115619  00004a3f76ed8c33d84a5c70    NaN                     0         0.0\n"
     ]
    }
   ],
   "source": [
    "# Create a column that indicates if the person has a secondary occupation (1 if they have, 0 if not)\n",
    "train_personas['ocupacion_secundaria'] = (train_personas['P7040'] == 1).astype(int)\n",
    "\n",
    "# Calculate the proportion of people with a secondary occupation in each household\n",
    "train_personas['prop_ocup2'] = train_personas.groupby('id')['ocupacion_secundaria'].transform('mean')\n",
    "\n",
    "# Display the first few rows to verify the calculation\n",
    "print(train_personas[['id', 'P7040', 'ocupacion_secundaria', 'prop_ocup2']].head())"
   ]
  },
  {
   "cell_type": "code",
   "execution_count": 580,
   "metadata": {},
   "outputs": [
    {
     "data": {
      "text/html": [
       "<div>\n",
       "<style scoped>\n",
       "    .dataframe tbody tr th:only-of-type {\n",
       "        vertical-align: middle;\n",
       "    }\n",
       "\n",
       "    .dataframe tbody tr th {\n",
       "        vertical-align: top;\n",
       "    }\n",
       "\n",
       "    .dataframe thead th {\n",
       "        text-align: right;\n",
       "    }\n",
       "</style>\n",
       "<table border=\"1\" class=\"dataframe\">\n",
       "  <thead>\n",
       "    <tr style=\"text-align: right;\">\n",
       "      <th></th>\n",
       "      <th>id</th>\n",
       "      <th>Orden</th>\n",
       "      <th>P6020</th>\n",
       "      <th>P6040</th>\n",
       "      <th>P6050</th>\n",
       "      <th>P6090</th>\n",
       "      <th>P6210</th>\n",
       "      <th>P6430</th>\n",
       "      <th>P6585s1</th>\n",
       "      <th>P6585s3a1</th>\n",
       "      <th>...</th>\n",
       "      <th>prop_sexo</th>\n",
       "      <th>ocup_jefe</th>\n",
       "      <th>ocupada</th>\n",
       "      <th>prop_ocup</th>\n",
       "      <th>mayor_10</th>\n",
       "      <th>prop_mayores10</th>\n",
       "      <th>afiliado</th>\n",
       "      <th>prop_afiliado</th>\n",
       "      <th>ocupacion_secundaria</th>\n",
       "      <th>prop_ocup2</th>\n",
       "    </tr>\n",
       "  </thead>\n",
       "  <tbody>\n",
       "    <tr>\n",
       "      <th>115620</th>\n",
       "      <td>00004a3f76ed8c33d84a5c70</td>\n",
       "      <td>1</td>\n",
       "      <td>2</td>\n",
       "      <td>31</td>\n",
       "      <td>1</td>\n",
       "      <td>1.0</td>\n",
       "      <td>5.0</td>\n",
       "      <td>NaN</td>\n",
       "      <td>NaN</td>\n",
       "      <td>NaN</td>\n",
       "      <td>...</td>\n",
       "      <td>0.400000</td>\n",
       "      <td>NaN</td>\n",
       "      <td>0</td>\n",
       "      <td>0.200000</td>\n",
       "      <td>1</td>\n",
       "      <td>0.600000</td>\n",
       "      <td>1</td>\n",
       "      <td>0.600000</td>\n",
       "      <td>0</td>\n",
       "      <td>0.0</td>\n",
       "    </tr>\n",
       "    <tr>\n",
       "      <th>115621</th>\n",
       "      <td>00004a3f76ed8c33d84a5c70</td>\n",
       "      <td>2</td>\n",
       "      <td>1</td>\n",
       "      <td>36</td>\n",
       "      <td>2</td>\n",
       "      <td>1.0</td>\n",
       "      <td>5.0</td>\n",
       "      <td>1.0</td>\n",
       "      <td>2.0</td>\n",
       "      <td>85500.0</td>\n",
       "      <td>...</td>\n",
       "      <td>0.400000</td>\n",
       "      <td>NaN</td>\n",
       "      <td>1</td>\n",
       "      <td>0.200000</td>\n",
       "      <td>1</td>\n",
       "      <td>0.600000</td>\n",
       "      <td>1</td>\n",
       "      <td>0.600000</td>\n",
       "      <td>0</td>\n",
       "      <td>0.0</td>\n",
       "    </tr>\n",
       "    <tr>\n",
       "      <th>115622</th>\n",
       "      <td>00004a3f76ed8c33d84a5c70</td>\n",
       "      <td>3</td>\n",
       "      <td>2</td>\n",
       "      <td>15</td>\n",
       "      <td>3</td>\n",
       "      <td>1.0</td>\n",
       "      <td>4.0</td>\n",
       "      <td>NaN</td>\n",
       "      <td>NaN</td>\n",
       "      <td>NaN</td>\n",
       "      <td>...</td>\n",
       "      <td>0.400000</td>\n",
       "      <td>NaN</td>\n",
       "      <td>0</td>\n",
       "      <td>0.200000</td>\n",
       "      <td>1</td>\n",
       "      <td>0.600000</td>\n",
       "      <td>1</td>\n",
       "      <td>0.600000</td>\n",
       "      <td>0</td>\n",
       "      <td>0.0</td>\n",
       "    </tr>\n",
       "    <tr>\n",
       "      <th>115618</th>\n",
       "      <td>00004a3f76ed8c33d84a5c70</td>\n",
       "      <td>4</td>\n",
       "      <td>2</td>\n",
       "      <td>6</td>\n",
       "      <td>3</td>\n",
       "      <td>NaN</td>\n",
       "      <td>3.0</td>\n",
       "      <td>NaN</td>\n",
       "      <td>NaN</td>\n",
       "      <td>NaN</td>\n",
       "      <td>...</td>\n",
       "      <td>0.400000</td>\n",
       "      <td>NaN</td>\n",
       "      <td>0</td>\n",
       "      <td>0.200000</td>\n",
       "      <td>0</td>\n",
       "      <td>0.600000</td>\n",
       "      <td>0</td>\n",
       "      <td>0.600000</td>\n",
       "      <td>0</td>\n",
       "      <td>0.0</td>\n",
       "    </tr>\n",
       "    <tr>\n",
       "      <th>115619</th>\n",
       "      <td>00004a3f76ed8c33d84a5c70</td>\n",
       "      <td>5</td>\n",
       "      <td>1</td>\n",
       "      <td>3</td>\n",
       "      <td>3</td>\n",
       "      <td>NaN</td>\n",
       "      <td>1.0</td>\n",
       "      <td>NaN</td>\n",
       "      <td>NaN</td>\n",
       "      <td>NaN</td>\n",
       "      <td>...</td>\n",
       "      <td>0.400000</td>\n",
       "      <td>NaN</td>\n",
       "      <td>0</td>\n",
       "      <td>0.200000</td>\n",
       "      <td>0</td>\n",
       "      <td>0.600000</td>\n",
       "      <td>0</td>\n",
       "      <td>0.600000</td>\n",
       "      <td>0</td>\n",
       "      <td>0.0</td>\n",
       "    </tr>\n",
       "    <tr>\n",
       "      <th>...</th>\n",
       "      <td>...</td>\n",
       "      <td>...</td>\n",
       "      <td>...</td>\n",
       "      <td>...</td>\n",
       "      <td>...</td>\n",
       "      <td>...</td>\n",
       "      <td>...</td>\n",
       "      <td>...</td>\n",
       "      <td>...</td>\n",
       "      <td>...</td>\n",
       "      <td>...</td>\n",
       "      <td>...</td>\n",
       "      <td>...</td>\n",
       "      <td>...</td>\n",
       "      <td>...</td>\n",
       "      <td>...</td>\n",
       "      <td>...</td>\n",
       "      <td>...</td>\n",
       "      <td>...</td>\n",
       "      <td>...</td>\n",
       "      <td>...</td>\n",
       "    </tr>\n",
       "    <tr>\n",
       "      <th>247107</th>\n",
       "      <td>ffff32451ed4afe313eb8e8d</td>\n",
       "      <td>2</td>\n",
       "      <td>2</td>\n",
       "      <td>38</td>\n",
       "      <td>2</td>\n",
       "      <td>1.0</td>\n",
       "      <td>4.0</td>\n",
       "      <td>6.0</td>\n",
       "      <td>NaN</td>\n",
       "      <td>NaN</td>\n",
       "      <td>...</td>\n",
       "      <td>0.333333</td>\n",
       "      <td>4.0</td>\n",
       "      <td>1</td>\n",
       "      <td>0.666667</td>\n",
       "      <td>1</td>\n",
       "      <td>0.666667</td>\n",
       "      <td>1</td>\n",
       "      <td>0.666667</td>\n",
       "      <td>0</td>\n",
       "      <td>0.0</td>\n",
       "    </tr>\n",
       "    <tr>\n",
       "      <th>247105</th>\n",
       "      <td>ffff32451ed4afe313eb8e8d</td>\n",
       "      <td>3</td>\n",
       "      <td>2</td>\n",
       "      <td>3</td>\n",
       "      <td>3</td>\n",
       "      <td>NaN</td>\n",
       "      <td>2.0</td>\n",
       "      <td>NaN</td>\n",
       "      <td>NaN</td>\n",
       "      <td>NaN</td>\n",
       "      <td>...</td>\n",
       "      <td>0.333333</td>\n",
       "      <td>4.0</td>\n",
       "      <td>0</td>\n",
       "      <td>0.666667</td>\n",
       "      <td>0</td>\n",
       "      <td>0.666667</td>\n",
       "      <td>0</td>\n",
       "      <td>0.666667</td>\n",
       "      <td>0</td>\n",
       "      <td>0.0</td>\n",
       "    </tr>\n",
       "    <tr>\n",
       "      <th>212028</th>\n",
       "      <td>ffffa463e09fef53f2798f82</td>\n",
       "      <td>1</td>\n",
       "      <td>1</td>\n",
       "      <td>84</td>\n",
       "      <td>1</td>\n",
       "      <td>1.0</td>\n",
       "      <td>1.0</td>\n",
       "      <td>NaN</td>\n",
       "      <td>NaN</td>\n",
       "      <td>NaN</td>\n",
       "      <td>...</td>\n",
       "      <td>1.000000</td>\n",
       "      <td>NaN</td>\n",
       "      <td>0</td>\n",
       "      <td>0.333333</td>\n",
       "      <td>1</td>\n",
       "      <td>1.000000</td>\n",
       "      <td>1</td>\n",
       "      <td>1.000000</td>\n",
       "      <td>0</td>\n",
       "      <td>0.0</td>\n",
       "    </tr>\n",
       "    <tr>\n",
       "      <th>212029</th>\n",
       "      <td>ffffa463e09fef53f2798f82</td>\n",
       "      <td>2</td>\n",
       "      <td>1</td>\n",
       "      <td>46</td>\n",
       "      <td>3</td>\n",
       "      <td>1.0</td>\n",
       "      <td>5.0</td>\n",
       "      <td>NaN</td>\n",
       "      <td>NaN</td>\n",
       "      <td>NaN</td>\n",
       "      <td>...</td>\n",
       "      <td>1.000000</td>\n",
       "      <td>NaN</td>\n",
       "      <td>0</td>\n",
       "      <td>0.333333</td>\n",
       "      <td>1</td>\n",
       "      <td>1.000000</td>\n",
       "      <td>1</td>\n",
       "      <td>1.000000</td>\n",
       "      <td>0</td>\n",
       "      <td>0.0</td>\n",
       "    </tr>\n",
       "    <tr>\n",
       "      <th>212030</th>\n",
       "      <td>ffffa463e09fef53f2798f82</td>\n",
       "      <td>3</td>\n",
       "      <td>1</td>\n",
       "      <td>55</td>\n",
       "      <td>3</td>\n",
       "      <td>1.0</td>\n",
       "      <td>5.0</td>\n",
       "      <td>1.0</td>\n",
       "      <td>2.0</td>\n",
       "      <td>0.0</td>\n",
       "      <td>...</td>\n",
       "      <td>1.000000</td>\n",
       "      <td>NaN</td>\n",
       "      <td>1</td>\n",
       "      <td>0.333333</td>\n",
       "      <td>1</td>\n",
       "      <td>1.000000</td>\n",
       "      <td>1</td>\n",
       "      <td>1.000000</td>\n",
       "      <td>0</td>\n",
       "      <td>0.0</td>\n",
       "    </tr>\n",
       "  </tbody>\n",
       "</table>\n",
       "<p>542878 rows × 24 columns</p>\n",
       "</div>"
      ],
      "text/plain": [
       "                              id  Orden  P6020  P6040  P6050  P6090  P6210  \\\n",
       "115620  00004a3f76ed8c33d84a5c70      1      2     31      1    1.0    5.0   \n",
       "115621  00004a3f76ed8c33d84a5c70      2      1     36      2    1.0    5.0   \n",
       "115622  00004a3f76ed8c33d84a5c70      3      2     15      3    1.0    4.0   \n",
       "115618  00004a3f76ed8c33d84a5c70      4      2      6      3    NaN    3.0   \n",
       "115619  00004a3f76ed8c33d84a5c70      5      1      3      3    NaN    1.0   \n",
       "...                          ...    ...    ...    ...    ...    ...    ...   \n",
       "247107  ffff32451ed4afe313eb8e8d      2      2     38      2    1.0    4.0   \n",
       "247105  ffff32451ed4afe313eb8e8d      3      2      3      3    NaN    2.0   \n",
       "212028  ffffa463e09fef53f2798f82      1      1     84      1    1.0    1.0   \n",
       "212029  ffffa463e09fef53f2798f82      2      1     46      3    1.0    5.0   \n",
       "212030  ffffa463e09fef53f2798f82      3      1     55      3    1.0    5.0   \n",
       "\n",
       "        P6430  P6585s1  P6585s3a1  ...  prop_sexo  ocup_jefe  ocupada  \\\n",
       "115620    NaN      NaN        NaN  ...   0.400000        NaN        0   \n",
       "115621    1.0      2.0    85500.0  ...   0.400000        NaN        1   \n",
       "115622    NaN      NaN        NaN  ...   0.400000        NaN        0   \n",
       "115618    NaN      NaN        NaN  ...   0.400000        NaN        0   \n",
       "115619    NaN      NaN        NaN  ...   0.400000        NaN        0   \n",
       "...       ...      ...        ...  ...        ...        ...      ...   \n",
       "247107    6.0      NaN        NaN  ...   0.333333        4.0        1   \n",
       "247105    NaN      NaN        NaN  ...   0.333333        4.0        0   \n",
       "212028    NaN      NaN        NaN  ...   1.000000        NaN        0   \n",
       "212029    NaN      NaN        NaN  ...   1.000000        NaN        0   \n",
       "212030    1.0      2.0        0.0  ...   1.000000        NaN        1   \n",
       "\n",
       "        prop_ocup  mayor_10  prop_mayores10  afiliado  prop_afiliado  \\\n",
       "115620   0.200000         1        0.600000         1       0.600000   \n",
       "115621   0.200000         1        0.600000         1       0.600000   \n",
       "115622   0.200000         1        0.600000         1       0.600000   \n",
       "115618   0.200000         0        0.600000         0       0.600000   \n",
       "115619   0.200000         0        0.600000         0       0.600000   \n",
       "...           ...       ...             ...       ...            ...   \n",
       "247107   0.666667         1        0.666667         1       0.666667   \n",
       "247105   0.666667         0        0.666667         0       0.666667   \n",
       "212028   0.333333         1        1.000000         1       1.000000   \n",
       "212029   0.333333         1        1.000000         1       1.000000   \n",
       "212030   0.333333         1        1.000000         1       1.000000   \n",
       "\n",
       "        ocupacion_secundaria  prop_ocup2  \n",
       "115620                     0         0.0  \n",
       "115621                     0         0.0  \n",
       "115622                     0         0.0  \n",
       "115618                     0         0.0  \n",
       "115619                     0         0.0  \n",
       "...                      ...         ...  \n",
       "247107                     0         0.0  \n",
       "247105                     0         0.0  \n",
       "212028                     0         0.0  \n",
       "212029                     0         0.0  \n",
       "212030                     0         0.0  \n",
       "\n",
       "[542878 rows x 24 columns]"
      ]
     },
     "metadata": {},
     "output_type": "display_data"
    }
   ],
   "source": [
    "display(train_personas)"
   ]
  },
  {
   "cell_type": "code",
   "execution_count": 581,
   "metadata": {},
   "outputs": [
    {
     "data": {
      "text/plain": [
       "Index(['id', 'Orden', 'P6020', 'P6040', 'P6050', 'P6090', 'P6210', 'P6430',\n",
       "       'P6585s1', 'P6585s3a1', 'P7040', 'P7045', 'Oc', 'recibio_subsidio',\n",
       "       'prop_sexo', 'ocup_jefe', 'ocupada', 'prop_ocup', 'mayor_10',\n",
       "       'prop_mayores10', 'afiliado', 'prop_afiliado', 'ocupacion_secundaria',\n",
       "       'prop_ocup2'],\n",
       "      dtype='object')"
      ]
     },
     "execution_count": 581,
     "metadata": {},
     "output_type": "execute_result"
    }
   ],
   "source": [
    "train_personas.columns"
   ]
  },
  {
   "cell_type": "code",
   "execution_count": 582,
   "metadata": {},
   "outputs": [
    {
     "data": {
      "text/html": [
       "<div>\n",
       "<style scoped>\n",
       "    .dataframe tbody tr th:only-of-type {\n",
       "        vertical-align: middle;\n",
       "    }\n",
       "\n",
       "    .dataframe tbody tr th {\n",
       "        vertical-align: top;\n",
       "    }\n",
       "\n",
       "    .dataframe thead th {\n",
       "        text-align: right;\n",
       "    }\n",
       "</style>\n",
       "<table border=\"1\" class=\"dataframe\">\n",
       "  <thead>\n",
       "    <tr style=\"text-align: right;\">\n",
       "      <th></th>\n",
       "      <th>id</th>\n",
       "      <th>prop_sexo</th>\n",
       "      <th>ocup_jefe</th>\n",
       "      <th>ocupada</th>\n",
       "      <th>prop_ocup</th>\n",
       "      <th>mayor_10</th>\n",
       "      <th>prop_mayores10</th>\n",
       "      <th>recibio_subsidio</th>\n",
       "      <th>ocupacion_secundaria</th>\n",
       "      <th>prop_ocup2</th>\n",
       "      <th>prop_afiliado</th>\n",
       "    </tr>\n",
       "  </thead>\n",
       "  <tbody>\n",
       "    <tr>\n",
       "      <th>0</th>\n",
       "      <td>00004a3f76ed8c33d84a5c70</td>\n",
       "      <td>0.400000</td>\n",
       "      <td>NaN</td>\n",
       "      <td>0</td>\n",
       "      <td>0.200000</td>\n",
       "      <td>1</td>\n",
       "      <td>0.600000</td>\n",
       "      <td>0</td>\n",
       "      <td>0</td>\n",
       "      <td>0.000000</td>\n",
       "      <td>0.600000</td>\n",
       "    </tr>\n",
       "    <tr>\n",
       "      <th>1</th>\n",
       "      <td>000088edf78cfaaf1791beba</td>\n",
       "      <td>0.333333</td>\n",
       "      <td>NaN</td>\n",
       "      <td>0</td>\n",
       "      <td>0.333333</td>\n",
       "      <td>1</td>\n",
       "      <td>0.666667</td>\n",
       "      <td>0</td>\n",
       "      <td>0</td>\n",
       "      <td>0.333333</td>\n",
       "      <td>0.666667</td>\n",
       "    </tr>\n",
       "    <tr>\n",
       "      <th>2</th>\n",
       "      <td>00009b13480f6770b6a4d1e9</td>\n",
       "      <td>0.666667</td>\n",
       "      <td>4.0</td>\n",
       "      <td>1</td>\n",
       "      <td>0.666667</td>\n",
       "      <td>1</td>\n",
       "      <td>1.000000</td>\n",
       "      <td>0</td>\n",
       "      <td>0</td>\n",
       "      <td>0.000000</td>\n",
       "      <td>1.000000</td>\n",
       "    </tr>\n",
       "    <tr>\n",
       "      <th>3</th>\n",
       "      <td>0000b1899fb63a7bf0b73ccf</td>\n",
       "      <td>0.500000</td>\n",
       "      <td>4.0</td>\n",
       "      <td>1</td>\n",
       "      <td>0.500000</td>\n",
       "      <td>1</td>\n",
       "      <td>1.000000</td>\n",
       "      <td>0</td>\n",
       "      <td>0</td>\n",
       "      <td>0.000000</td>\n",
       "      <td>1.000000</td>\n",
       "    </tr>\n",
       "    <tr>\n",
       "      <th>4</th>\n",
       "      <td>0000f3ec65ccacadfcc59f32</td>\n",
       "      <td>0.333333</td>\n",
       "      <td>NaN</td>\n",
       "      <td>0</td>\n",
       "      <td>0.666667</td>\n",
       "      <td>1</td>\n",
       "      <td>1.000000</td>\n",
       "      <td>0</td>\n",
       "      <td>0</td>\n",
       "      <td>0.000000</td>\n",
       "      <td>1.000000</td>\n",
       "    </tr>\n",
       "  </tbody>\n",
       "</table>\n",
       "</div>"
      ],
      "text/plain": [
       "                         id  prop_sexo  ocup_jefe  ocupada  prop_ocup  \\\n",
       "0  00004a3f76ed8c33d84a5c70   0.400000        NaN        0   0.200000   \n",
       "1  000088edf78cfaaf1791beba   0.333333        NaN        0   0.333333   \n",
       "2  00009b13480f6770b6a4d1e9   0.666667        4.0        1   0.666667   \n",
       "3  0000b1899fb63a7bf0b73ccf   0.500000        4.0        1   0.500000   \n",
       "4  0000f3ec65ccacadfcc59f32   0.333333        NaN        0   0.666667   \n",
       "\n",
       "   mayor_10  prop_mayores10  recibio_subsidio  ocupacion_secundaria  \\\n",
       "0         1        0.600000                 0                     0   \n",
       "1         1        0.666667                 0                     0   \n",
       "2         1        1.000000                 0                     0   \n",
       "3         1        1.000000                 0                     0   \n",
       "4         1        1.000000                 0                     0   \n",
       "\n",
       "   prop_ocup2  prop_afiliado  \n",
       "0    0.000000       0.600000  \n",
       "1    0.333333       0.666667  \n",
       "2    0.000000       1.000000  \n",
       "3    0.000000       1.000000  \n",
       "4    0.000000       1.000000  "
      ]
     },
     "metadata": {},
     "output_type": "display_data"
    }
   ],
   "source": [
    "# Agrupar por 'id' y quedarnos con la primera fila de cada grupo\n",
    "variables = ['id', 'prop_sexo', 'ocup_jefe', 'ocupada', 'prop_ocup', 'mayor_10', 'prop_mayores10', 'recibio_subsidio', 'ocupacion_secundaria', 'prop_ocup2','prop_afiliado']\n",
    "train_personas_agg = train_personas[variables].drop_duplicates(subset='id', keep='first').reset_index(drop=True)\n",
    "\n",
    "# Mostrar las primeras filas para verificar\n",
    "display(train_personas_agg.head())"
   ]
  },
  {
   "cell_type": "code",
   "execution_count": 583,
   "metadata": {},
   "outputs": [
    {
     "name": "stdout",
     "output_type": "stream",
     "text": [
      "Number of rows in train_personas_agg: 164933\n",
      "Number of rows in train_hogares: 164960\n"
     ]
    }
   ],
   "source": [
    "print(f\"Number of rows in train_personas_agg: {train_personas_agg.shape[0]}\")\n",
    "print(f\"Number of rows in train_hogares: {train_hogares.shape[0]}\")"
   ]
  },
  {
   "cell_type": "code",
   "execution_count": 584,
   "metadata": {},
   "outputs": [
    {
     "data": {
      "text/html": [
       "<div>\n",
       "<style scoped>\n",
       "    .dataframe tbody tr th:only-of-type {\n",
       "        vertical-align: middle;\n",
       "    }\n",
       "\n",
       "    .dataframe tbody tr th {\n",
       "        vertical-align: top;\n",
       "    }\n",
       "\n",
       "    .dataframe thead th {\n",
       "        text-align: right;\n",
       "    }\n",
       "</style>\n",
       "<table border=\"1\" class=\"dataframe\">\n",
       "  <thead>\n",
       "    <tr style=\"text-align: right;\">\n",
       "      <th></th>\n",
       "      <th>id</th>\n",
       "      <th>P5000</th>\n",
       "      <th>P5010</th>\n",
       "      <th>P5090</th>\n",
       "      <th>P5130</th>\n",
       "      <th>Nper</th>\n",
       "      <th>Ingpcug</th>\n",
       "      <th>Clase</th>\n",
       "      <th>Fex_c</th>\n",
       "      <th>Pobre</th>\n",
       "      <th>prop_sexo</th>\n",
       "      <th>ocup_jefe</th>\n",
       "      <th>ocupada</th>\n",
       "      <th>prop_ocup</th>\n",
       "      <th>mayor_10</th>\n",
       "      <th>prop_mayores10</th>\n",
       "      <th>recibio_subsidio</th>\n",
       "      <th>ocupacion_secundaria</th>\n",
       "      <th>prop_ocup2</th>\n",
       "      <th>prop_afiliado</th>\n",
       "    </tr>\n",
       "  </thead>\n",
       "  <tbody>\n",
       "    <tr>\n",
       "      <th>0</th>\n",
       "      <td>00004a3f76ed8c33d84a5c70</td>\n",
       "      <td>3</td>\n",
       "      <td>2</td>\n",
       "      <td>1</td>\n",
       "      <td>250000.0</td>\n",
       "      <td>5</td>\n",
       "      <td>265285.883333</td>\n",
       "      <td>1</td>\n",
       "      <td>535.091737</td>\n",
       "      <td>1</td>\n",
       "      <td>0.400000</td>\n",
       "      <td>NaN</td>\n",
       "      <td>0</td>\n",
       "      <td>0.200000</td>\n",
       "      <td>1</td>\n",
       "      <td>0.600000</td>\n",
       "      <td>0</td>\n",
       "      <td>0</td>\n",
       "      <td>0.000000</td>\n",
       "      <td>0.600000</td>\n",
       "    </tr>\n",
       "    <tr>\n",
       "      <th>1</th>\n",
       "      <td>000088edf78cfaaf1791beba</td>\n",
       "      <td>3</td>\n",
       "      <td>2</td>\n",
       "      <td>3</td>\n",
       "      <td>NaN</td>\n",
       "      <td>3</td>\n",
       "      <td>344166.666667</td>\n",
       "      <td>1</td>\n",
       "      <td>48.637019</td>\n",
       "      <td>0</td>\n",
       "      <td>0.333333</td>\n",
       "      <td>NaN</td>\n",
       "      <td>0</td>\n",
       "      <td>0.333333</td>\n",
       "      <td>1</td>\n",
       "      <td>0.666667</td>\n",
       "      <td>0</td>\n",
       "      <td>0</td>\n",
       "      <td>0.333333</td>\n",
       "      <td>0.666667</td>\n",
       "    </tr>\n",
       "    <tr>\n",
       "      <th>2</th>\n",
       "      <td>00009b13480f6770b6a4d1e9</td>\n",
       "      <td>4</td>\n",
       "      <td>3</td>\n",
       "      <td>1</td>\n",
       "      <td>700000.0</td>\n",
       "      <td>3</td>\n",
       "      <td>833333.333333</td>\n",
       "      <td>1</td>\n",
       "      <td>18.831041</td>\n",
       "      <td>0</td>\n",
       "      <td>0.666667</td>\n",
       "      <td>4.0</td>\n",
       "      <td>1</td>\n",
       "      <td>0.666667</td>\n",
       "      <td>1</td>\n",
       "      <td>1.000000</td>\n",
       "      <td>0</td>\n",
       "      <td>0</td>\n",
       "      <td>0.000000</td>\n",
       "      <td>1.000000</td>\n",
       "    </tr>\n",
       "    <tr>\n",
       "      <th>3</th>\n",
       "      <td>0000b1899fb63a7bf0b73ccf</td>\n",
       "      <td>5</td>\n",
       "      <td>2</td>\n",
       "      <td>1</td>\n",
       "      <td>70000.0</td>\n",
       "      <td>2</td>\n",
       "      <td>355000.000000</td>\n",
       "      <td>2</td>\n",
       "      <td>48.193596</td>\n",
       "      <td>0</td>\n",
       "      <td>0.500000</td>\n",
       "      <td>4.0</td>\n",
       "      <td>1</td>\n",
       "      <td>0.500000</td>\n",
       "      <td>1</td>\n",
       "      <td>1.000000</td>\n",
       "      <td>0</td>\n",
       "      <td>0</td>\n",
       "      <td>0.000000</td>\n",
       "      <td>1.000000</td>\n",
       "    </tr>\n",
       "    <tr>\n",
       "      <th>4</th>\n",
       "      <td>0000f3ec65ccacadfcc59f32</td>\n",
       "      <td>4</td>\n",
       "      <td>2</td>\n",
       "      <td>1</td>\n",
       "      <td>350000.0</td>\n",
       "      <td>3</td>\n",
       "      <td>720830.666667</td>\n",
       "      <td>1</td>\n",
       "      <td>11.184193</td>\n",
       "      <td>0</td>\n",
       "      <td>0.333333</td>\n",
       "      <td>NaN</td>\n",
       "      <td>0</td>\n",
       "      <td>0.666667</td>\n",
       "      <td>1</td>\n",
       "      <td>1.000000</td>\n",
       "      <td>0</td>\n",
       "      <td>0</td>\n",
       "      <td>0.000000</td>\n",
       "      <td>1.000000</td>\n",
       "    </tr>\n",
       "  </tbody>\n",
       "</table>\n",
       "</div>"
      ],
      "text/plain": [
       "                         id  P5000  P5010  P5090     P5130  Nper  \\\n",
       "0  00004a3f76ed8c33d84a5c70      3      2      1  250000.0     5   \n",
       "1  000088edf78cfaaf1791beba      3      2      3       NaN     3   \n",
       "2  00009b13480f6770b6a4d1e9      4      3      1  700000.0     3   \n",
       "3  0000b1899fb63a7bf0b73ccf      5      2      1   70000.0     2   \n",
       "4  0000f3ec65ccacadfcc59f32      4      2      1  350000.0     3   \n",
       "\n",
       "         Ingpcug  Clase       Fex_c  Pobre  prop_sexo  ocup_jefe  ocupada  \\\n",
       "0  265285.883333      1  535.091737      1   0.400000        NaN        0   \n",
       "1  344166.666667      1   48.637019      0   0.333333        NaN        0   \n",
       "2  833333.333333      1   18.831041      0   0.666667        4.0        1   \n",
       "3  355000.000000      2   48.193596      0   0.500000        4.0        1   \n",
       "4  720830.666667      1   11.184193      0   0.333333        NaN        0   \n",
       "\n",
       "   prop_ocup  mayor_10  prop_mayores10  recibio_subsidio  \\\n",
       "0   0.200000         1        0.600000                 0   \n",
       "1   0.333333         1        0.666667                 0   \n",
       "2   0.666667         1        1.000000                 0   \n",
       "3   0.500000         1        1.000000                 0   \n",
       "4   0.666667         1        1.000000                 0   \n",
       "\n",
       "   ocupacion_secundaria  prop_ocup2  prop_afiliado  \n",
       "0                     0    0.000000       0.600000  \n",
       "1                     0    0.333333       0.666667  \n",
       "2                     0    0.000000       1.000000  \n",
       "3                     0    0.000000       1.000000  \n",
       "4                     0    0.000000       1.000000  "
      ]
     },
     "execution_count": 584,
     "metadata": {},
     "output_type": "execute_result"
    }
   ],
   "source": [
    "# Hacer un merge de train_hogares con train_personas_agg usando la columna 'id' con un inner join\n",
    "train_hogares2 = train_hogares.merge(train_personas_agg, on='id', how='inner')\n",
    "\n",
    "# Mostrar las primeras filas para verificar\n",
    "train_hogares2.head()"
   ]
  },
  {
   "cell_type": "markdown",
   "metadata": {},
   "source": [
    "#### Hasta aca llegamos. continuamos sabado."
   ]
  },
  {
   "cell_type": "code",
   "execution_count": null,
   "metadata": {},
   "outputs": [],
   "source": []
  },
  {
   "cell_type": "code",
   "execution_count": null,
   "metadata": {},
   "outputs": [],
   "source": []
  },
  {
   "cell_type": "code",
   "execution_count": null,
   "metadata": {},
   "outputs": [],
   "source": []
  },
  {
   "cell_type": "code",
   "execution_count": null,
   "metadata": {},
   "outputs": [],
   "source": []
  },
  {
   "cell_type": "code",
   "execution_count": null,
   "metadata": {},
   "outputs": [],
   "source": []
  },
  {
   "cell_type": "code",
   "execution_count": 463,
   "metadata": {},
   "outputs": [
    {
     "data": {
      "text/plain": [
       "Index(['id', 'P5000', 'P5010', 'P5090', 'P5130', 'Nper', 'Ingpcug', 'Clase',\n",
       "       'Fex_c', 'Pobre', 'prop_sexo_x', 'ocup_jefe_x', 'ocupada_x',\n",
       "       'prop_ocup_x', 'mayor_10_x', 'prop_mayores10_x', 'recibio_subsidio_x',\n",
       "       'ocupacion_secundaria_x', 'prop_ocup2_x', 'prop_sexo_y', 'ocup_jefe_y',\n",
       "       'ocupada_y', 'prop_ocup_y', 'mayor_10_y', 'prop_mayores10_y',\n",
       "       'recibio_subsidio_y', 'ocupacion_secundaria_y', 'prop_ocup2_y',\n",
       "       'prop_sexo', 'ocup_jefe', 'ocupada', 'prop_ocup', 'mayor_10',\n",
       "       'prop_mayores10', 'recibio_subsidio', 'ocupacion_secundaria',\n",
       "       'prop_ocup2'],\n",
       "      dtype='object')"
      ]
     },
     "execution_count": 463,
     "metadata": {},
     "output_type": "execute_result"
    }
   ],
   "source": [
    "train_hogares2.columns"
   ]
  },
  {
   "cell_type": "code",
   "execution_count": 168,
   "metadata": {
    "vscode": {
     "languageId": "javascript"
    }
   },
   "outputs": [
    {
     "data": {
      "text/plain": [
       "Index(['id', 'sexo', 'edad', 'seg_social', 'nivel_edu', 'ocup', 'tipo_empleo',\n",
       "       'ing_mensual', 'subsidio_alim', 'subsidio_familiar', 'ocup_sec',\n",
       "       'hs_trabajo_secundaria', 'hs_trabajo_principal', 'num_empleados',\n",
       "       'ing_tot', 'P5000', 'cuartos', 'vivienda', 'alquiler',\n",
       "       'num_personas_hogar', 'Ingpcug', 'clase', 'fex_c', 'pobre'],\n",
       "      dtype='object')"
      ]
     },
     "execution_count": 168,
     "metadata": {},
     "output_type": "execute_result"
    }
   ],
   "source": [
    "base.rename(columns={\n",
    "    'P6020': 'sexo',\n",
    "    'P6040': 'edad',\n",
    "    'P6090': 'seg_social',\n",
    "    'P6210': 'nivel_edu',\n",
    "    'P6240': 'ocup',\n",
    "    'P6430': 'tipo_empleo',\n",
    "    'P6500': 'ing_mensual',\n",
    "    'Ingcup': 'ing_pch',\n",
    "    'P6585s1': 'subsidio_alim',\n",
    "    'P6585s3a1': 'subsidio_familiar',\n",
    "    'P7040': 'ocup_sec',\n",
    "    'P7045': 'hs_trabajo_secundaria',\n",
    "    'P6800': 'hs_trabajo_principal',\n",
    "    'P6870': 'num_empleados',\n",
    "    'Ingtot': 'ing_tot',\n",
    "    'P5010': 'cuartos',\n",
    "    'P5090': 'vivienda',\n",
    "    'P5130': 'alquiler',\n",
    "    'Nper': 'num_personas_hogar',\n",
    "    'Clase': 'clase',\n",
    "    'Fex_c': 'fex_c',\n",
    "    'Pobre': 'pobre'\n",
    "}, inplace=True)\n",
    "\n",
    "base.columns"
   ]
  },
  {
   "cell_type": "code",
   "execution_count": 169,
   "metadata": {
    "vscode": {
     "languageId": "javascript"
    }
   },
   "outputs": [
    {
     "data": {
      "text/html": [
       "<div>\n",
       "<style scoped>\n",
       "    .dataframe tbody tr th:only-of-type {\n",
       "        vertical-align: middle;\n",
       "    }\n",
       "\n",
       "    .dataframe tbody tr th {\n",
       "        vertical-align: top;\n",
       "    }\n",
       "\n",
       "    .dataframe thead th {\n",
       "        text-align: right;\n",
       "    }\n",
       "</style>\n",
       "<table border=\"1\" class=\"dataframe\">\n",
       "  <thead>\n",
       "    <tr style=\"text-align: right;\">\n",
       "      <th></th>\n",
       "      <th>id</th>\n",
       "      <th>sexo</th>\n",
       "      <th>edad</th>\n",
       "      <th>seg_social</th>\n",
       "      <th>nivel_edu</th>\n",
       "      <th>ocup</th>\n",
       "      <th>tipo_empleo</th>\n",
       "      <th>ing_mensual</th>\n",
       "      <th>subsidio_alim</th>\n",
       "      <th>subsidio_familiar</th>\n",
       "      <th>...</th>\n",
       "      <th>ing_tot</th>\n",
       "      <th>P5000</th>\n",
       "      <th>cuartos</th>\n",
       "      <th>vivienda</th>\n",
       "      <th>alquiler</th>\n",
       "      <th>num_personas_hogar</th>\n",
       "      <th>Ingpcug</th>\n",
       "      <th>clase</th>\n",
       "      <th>fex_c</th>\n",
       "      <th>pobre</th>\n",
       "    </tr>\n",
       "  </thead>\n",
       "  <tbody>\n",
       "    <tr>\n",
       "      <th>0</th>\n",
       "      <td>8d0193e328305a042001a35f</td>\n",
       "      <td>2</td>\n",
       "      <td>38</td>\n",
       "      <td>1.0</td>\n",
       "      <td>3.0</td>\n",
       "      <td>1.0</td>\n",
       "      <td>1.0</td>\n",
       "      <td>737717.0</td>\n",
       "      <td>2.0</td>\n",
       "      <td>75000.0</td>\n",
       "      <td>...</td>\n",
       "      <td>1.109190e+06</td>\n",
       "      <td>4</td>\n",
       "      <td>2</td>\n",
       "      <td>1</td>\n",
       "      <td>400000.0</td>\n",
       "      <td>5</td>\n",
       "      <td>581666.066667</td>\n",
       "      <td>1</td>\n",
       "      <td>127.222038</td>\n",
       "      <td>0</td>\n",
       "    </tr>\n",
       "    <tr>\n",
       "      <th>1</th>\n",
       "      <td>8d0193e328305a042001a35f</td>\n",
       "      <td>1</td>\n",
       "      <td>3</td>\n",
       "      <td>NaN</td>\n",
       "      <td>2.0</td>\n",
       "      <td>NaN</td>\n",
       "      <td>NaN</td>\n",
       "      <td>NaN</td>\n",
       "      <td>NaN</td>\n",
       "      <td>NaN</td>\n",
       "      <td>...</td>\n",
       "      <td>NaN</td>\n",
       "      <td>4</td>\n",
       "      <td>2</td>\n",
       "      <td>1</td>\n",
       "      <td>400000.0</td>\n",
       "      <td>5</td>\n",
       "      <td>581666.066667</td>\n",
       "      <td>1</td>\n",
       "      <td>127.222038</td>\n",
       "      <td>0</td>\n",
       "    </tr>\n",
       "    <tr>\n",
       "      <th>2</th>\n",
       "      <td>8d0193e328305a042001a35f</td>\n",
       "      <td>1</td>\n",
       "      <td>41</td>\n",
       "      <td>1.0</td>\n",
       "      <td>5.0</td>\n",
       "      <td>6.0</td>\n",
       "      <td>1.0</td>\n",
       "      <td>1140000.0</td>\n",
       "      <td>2.0</td>\n",
       "      <td>81000.0</td>\n",
       "      <td>...</td>\n",
       "      <td>1.399140e+06</td>\n",
       "      <td>4</td>\n",
       "      <td>2</td>\n",
       "      <td>1</td>\n",
       "      <td>400000.0</td>\n",
       "      <td>5</td>\n",
       "      <td>581666.066667</td>\n",
       "      <td>1</td>\n",
       "      <td>127.222038</td>\n",
       "      <td>0</td>\n",
       "    </tr>\n",
       "    <tr>\n",
       "      <th>3</th>\n",
       "      <td>8d0193e328305a042001a35f</td>\n",
       "      <td>1</td>\n",
       "      <td>3</td>\n",
       "      <td>NaN</td>\n",
       "      <td>2.0</td>\n",
       "      <td>NaN</td>\n",
       "      <td>NaN</td>\n",
       "      <td>NaN</td>\n",
       "      <td>NaN</td>\n",
       "      <td>NaN</td>\n",
       "      <td>...</td>\n",
       "      <td>NaN</td>\n",
       "      <td>4</td>\n",
       "      <td>2</td>\n",
       "      <td>1</td>\n",
       "      <td>400000.0</td>\n",
       "      <td>5</td>\n",
       "      <td>581666.066667</td>\n",
       "      <td>1</td>\n",
       "      <td>127.222038</td>\n",
       "      <td>0</td>\n",
       "    </tr>\n",
       "    <tr>\n",
       "      <th>4</th>\n",
       "      <td>8d0193e328305a042001a35f</td>\n",
       "      <td>1</td>\n",
       "      <td>11</td>\n",
       "      <td>NaN</td>\n",
       "      <td>4.0</td>\n",
       "      <td>NaN</td>\n",
       "      <td>NaN</td>\n",
       "      <td>NaN</td>\n",
       "      <td>NaN</td>\n",
       "      <td>NaN</td>\n",
       "      <td>...</td>\n",
       "      <td>NaN</td>\n",
       "      <td>4</td>\n",
       "      <td>2</td>\n",
       "      <td>1</td>\n",
       "      <td>400000.0</td>\n",
       "      <td>5</td>\n",
       "      <td>581666.066667</td>\n",
       "      <td>1</td>\n",
       "      <td>127.222038</td>\n",
       "      <td>0</td>\n",
       "    </tr>\n",
       "  </tbody>\n",
       "</table>\n",
       "<p>5 rows × 24 columns</p>\n",
       "</div>"
      ],
      "text/plain": [
       "                         id  sexo  edad  seg_social  nivel_edu  ocup  \\\n",
       "0  8d0193e328305a042001a35f     2    38         1.0        3.0   1.0   \n",
       "1  8d0193e328305a042001a35f     1     3         NaN        2.0   NaN   \n",
       "2  8d0193e328305a042001a35f     1    41         1.0        5.0   6.0   \n",
       "3  8d0193e328305a042001a35f     1     3         NaN        2.0   NaN   \n",
       "4  8d0193e328305a042001a35f     1    11         NaN        4.0   NaN   \n",
       "\n",
       "   tipo_empleo  ing_mensual  subsidio_alim  subsidio_familiar  ...  \\\n",
       "0          1.0     737717.0            2.0            75000.0  ...   \n",
       "1          NaN          NaN            NaN                NaN  ...   \n",
       "2          1.0    1140000.0            2.0            81000.0  ...   \n",
       "3          NaN          NaN            NaN                NaN  ...   \n",
       "4          NaN          NaN            NaN                NaN  ...   \n",
       "\n",
       "        ing_tot  P5000  cuartos  vivienda  alquiler  num_personas_hogar  \\\n",
       "0  1.109190e+06      4        2         1  400000.0                   5   \n",
       "1           NaN      4        2         1  400000.0                   5   \n",
       "2  1.399140e+06      4        2         1  400000.0                   5   \n",
       "3           NaN      4        2         1  400000.0                   5   \n",
       "4           NaN      4        2         1  400000.0                   5   \n",
       "\n",
       "         Ingpcug  clase       fex_c  pobre  \n",
       "0  581666.066667      1  127.222038      0  \n",
       "1  581666.066667      1  127.222038      0  \n",
       "2  581666.066667      1  127.222038      0  \n",
       "3  581666.066667      1  127.222038      0  \n",
       "4  581666.066667      1  127.222038      0  \n",
       "\n",
       "[5 rows x 24 columns]"
      ]
     },
     "metadata": {},
     "output_type": "display_data"
    }
   ],
   "source": [
    "display(base.head())"
   ]
  },
  {
   "cell_type": "code",
   "execution_count": 176,
   "metadata": {},
   "outputs": [
    {
     "name": "stdout",
     "output_type": "stream",
     "text": [
      "Valores únicos para sexo: [0 1]\n",
      "Valores únicos para seg_social: [ 1. nan  2.  9.]\n",
      "Valores únicos para nivel_edu: [ 3.  2.  5.  4.  1.  6. nan  9.]\n",
      "Valores únicos para ocup: [ 1. nan  6.  4.  2.  3.  5.]\n",
      "Valores únicos para tipo_empleo: [ 1. nan  4.  5.  6.  2.  3.  7.  8.  9.]\n",
      "Valores únicos para subsidio_alim: [ 2. nan  1.  9.]\n",
      "Valores únicos para vivienda: [1 3 4 2 5 6]\n",
      "Valores únicos para clase: [1 2]\n"
     ]
    }
   ],
   "source": [
    "variables = ['sexo', 'seg_social', 'nivel_edu', 'ocup', 'tipo_empleo', 'subsidio_alim', 'vivienda', 'clase']\n",
    "\n",
    "for var in variables:\n",
    "    print(f\"Valores únicos para {var}: {base[var].unique()}\")"
   ]
  },
  {
   "cell_type": "code",
   "execution_count": 172,
   "metadata": {},
   "outputs": [],
   "source": [
    "# Replace 2 (woman) with 0 in the 'sexo' column\n",
    "base['sexo'] = base['sexo'].replace(2, 0)\n",
    "\n",
    "# Reemplazar 2 (resto) con 0 en la columna 'clase'\n",
    "base['clase'] = base['clase'].replace(2, 0)"
   ]
  },
  {
   "cell_type": "code",
   "execution_count": 179,
   "metadata": {},
   "outputs": [],
   "source": [
    "# filtrar filas cuando la variable seg_social, tipo_empleo, subsidio_alim sean 9\n",
    "base = base[~base['seg_social'].isin([9])]\n",
    "base = base[~base['tipo_empleo'].isin([9])]\n",
    "base = base[~base['subsidio_alim'].isin([9])]"
   ]
  },
  {
   "cell_type": "markdown",
   "metadata": {},
   "source": [
    "Para el caso de las variables que ya están en la base de hogares, se pueden considerar como\n",
    "interesantes las siguientes: \n",
    "\n",
    "Dominio: hay que codificarla primero. Te recoge el efecto fijo de la región\n",
    "\n",
    "p5010 El hacinamiento puede ser importante.\n",
    "\n",
    "p5090 si es vivienda propia\n",
    "\n",
    "p5130 cuanto piensa que hubiera pagado de alquiler? te puede recoger no solo un proxy del valor de la casa sino que los hogares con menores recursos van a percibir menores valores y viceversa\n",
    "\n",
    "Nper: numero de personas, existe correlación negativa entre tamaño del hogar e ingreso"
   ]
  },
  {
   "cell_type": "code",
   "execution_count": 99,
   "metadata": {},
   "outputs": [
    {
     "data": {
      "image/png": "[encoded data removed]",
      "text/plain": [
       "<Figure size 640x480 with 2 Axes>"
      ]
     },
     "metadata": {},
     "output_type": "display_data"
    }
   ],
   "source": [
    "#Heatmap de la base hogares con las variables interesantes\n",
    "\n",
    "columnas = ['Ingpcug', 'Pobre', 'P5010', 'P5090', 'P5130', 'Nper']\n",
    "corr = train_hogares[columnas].corr()\n",
    "\n",
    "# Crear el mapa de calor con escala fija de -1 a 1\n",
    "sns.heatmap(\n",
    "    corr, xticklabels=corr.columns, yticklabels=corr.columns, cmap='coolwarm', annot=True, fmt='.2f',\n",
    "    cbar=True, square=True, annot_kws={'size': 12}, linewidth=.5,\n",
    "    vmin=-1, vmax=1  # Configurar la escala fija de colores\n",
    ")\n",
    "\n",
    "# Personalizar el gráfico\n",
    "plt.title('Diagrama de correlación', color='#E9785D')\n",
    "plt.show()"
   ]
  },
  {
   "cell_type": "markdown",
   "metadata": {},
   "source": [
    "**ACLARO: ESTO LE DA ESTRUCTURA, NO ES QUE SEA EXCLUYENTE LAS VARIABLES QUE PUSE**"
   ]
  },
  {
   "cell_type": "markdown",
   "metadata": {},
   "source": [
    "A continuación, transformamos ciertas variables de la base de individuos para luego utilizarlas junto con los hogares. Estas variables se intuye que pueden ser buenas predictoras. Las mismas son:\n",
    "\n",
    "P6020: sexo: creamos _prop_sex_ proporción de masculinos en la casa puede ser bueno para predecir. \n",
    "\n",
    "p6210: creamos _max_level_edu_. creamos una variable que sea el máximo nivel educativo alcanzado por los integrantes del hogar\n",
    "\n",
    "p6430: creamos _ocup_jefe_. posición ocupacional de la 1ra actividad. nos podemos quedar con lo que hace el jefe de hogar.\n",
    "\n",
    "p6920: creamos _cant_blanco_. Esta variable nos dice si está cotizando a un fondo de pensiones. crear una variable que nos diga la cantidad de empleados formales que tiene el hogar. La variable p6920 toma 3 valores: 1: si, 2: no, 3: ya es pensionado. Solo vamos a tomar 1 si está cotizando y 0 en cualquier otro caso.\n",
    "\n",
    "Oc: cant_ocup. sumamos todos los ocupados que tiene la casa.\n"
   ]
  },
  {
   "cell_type": "code",
   "execution_count": 13,
   "metadata": {},
   "outputs": [],
   "source": [
    "#Cambiamos el valor de mujer de 2 a 0 para poder hacer cálculos luego\n",
    "\n",
    "train_personas['P6020'] = train_personas['P6020'].replace(2, 0)"
   ]
  },
  {
   "cell_type": "code",
   "execution_count": 18,
   "metadata": {},
   "outputs": [],
   "source": [
    "#Calculamos la proporción de hombres en el hogar:\n",
    "\n",
    "# Contar cuántos hombres hay en cada hogar (P6020 == 1)\n",
    "hombres_por_hogar = train_personas[train_personas['P6020'] == 1].groupby('id')['P6020'].count()\n",
    "\n",
    "# Contar el total de integrantes por hogar\n",
    "total_por_hogar = train_personas.groupby('id')['P6020'].count()\n",
    "\n",
    "# Calcular la proporción de hombres en cada hogar\n",
    "train_personas['prop_sex'] = train_personas['id'].map(hombres_por_hogar) / train_personas['id'].map(total_por_hogar)\n"
   ]
  },
  {
   "cell_type": "code",
   "execution_count": 16,
   "metadata": {},
   "outputs": [
    {
     "name": "stdout",
     "output_type": "stream",
     "text": [
      "                         id  P6210  mal_level_edu\n",
      "0  8d0193e328305a042001a35f    3.0            5.0\n",
      "1  8d0193e328305a042001a35f    2.0            5.0\n",
      "2  8d0193e328305a042001a35f    5.0            5.0\n",
      "3  8d0193e328305a042001a35f    2.0            5.0\n",
      "4  8d0193e328305a042001a35f    4.0            5.0\n"
     ]
    }
   ],
   "source": [
    "#Creamos una variable que nos diga el máximo nivel educativo de cada integrante del hogar\n",
    "\n",
    "# Filtrar los valores válidos de 'P6210' (1 a 6, excluyendo 9)\n",
    "train_personas_filtrado = train_personas[train_personas['P6210'] != 9]\n",
    "\n",
    "# Agrupar por el identificador del hogar (asumí que hay una columna 'hogar_id' que identifica a cada hogar)\n",
    "# Luego, calcular el máximo nivel educativo alcanzado en cada hogar\n",
    "train_personas['mal_level_edu'] = train_personas_filtrado.groupby('id')['P6210'].transform('max')\n",
    "\n",
    "# Si hay hogares con valores 'P6210' == 9 (sin datos válidos), asignamos el valor correspondiente para esos hogares\n",
    "train_personas['mal_level_edu'] = train_personas.groupby('id')['mal_level_edu'].transform('max')\n",
    "\n",
    "# Mostrar las primeras filas para verificar\n",
    "print(train_personas[['id', 'P6210', 'mal_level_edu']].head())\n"
   ]
  },
  {
   "cell_type": "code",
   "execution_count": 20,
   "metadata": {},
   "outputs": [],
   "source": [
    "#Creamos la variable \"ocup_jefe\" que toma el valor de la ocupación principal del jefe de hogar\n",
    "\n",
    "# Filtrar la fila correspondiente al jefe del hogar (P6050 == 1)\n",
    "jefe_hogar = train_personas[train_personas['P6050'] == 1]\n",
    "\n",
    "# Crear un diccionario con la relación 'id' del hogar y la posición ocupacional del jefe (P6430)\n",
    "jefe_ocupacion = jefe_hogar.set_index('id')['P6430'].to_dict()\n",
    "\n",
    "# Asignar la posición ocupacional del jefe a la nueva variable 'ocup_jefe'\n",
    "train_personas['ocup_jefe'] = train_personas['id'].map(jefe_ocupacion)\n"
   ]
  },
  {
   "cell_type": "code",
   "execution_count": 24,
   "metadata": {},
   "outputs": [],
   "source": [
    "#Contamos la cantidad de personas trabajando en blanco que tiene el hogar\n",
    "\n",
    "# Crear una variable que sea 1 si la persona está en blanco (P6870 == 1) y 0 en cualquier otro caso\n",
    "train_personas['blanco'] = (train_personas['P6870'] == 1).astype(int)\n",
    "\n",
    "# Agrupar por 'id' y sumar la cantidad de personas en blanco en cada hogar\n",
    "cant_blanco_por_hogar = train_personas.groupby('id')['blanco'].sum()\n",
    "\n",
    "# Asignar la suma de personas en blanco a la nueva variable 'cant_blanco' en el DataFrame original\n",
    "train_personas['cant_blanco'] = train_personas['id'].map(cant_blanco_por_hogar)\n"
   ]
  },
  {
   "cell_type": "code",
   "execution_count": 28,
   "metadata": {},
   "outputs": [],
   "source": [
    "# Crear una variable que sea 1 si la persona está ocupada (Oc == 1) y 0 en cualquier otro caso\n",
    "train_personas['ocupada'] = (train_personas['Oc'] == 1).astype(int)\n",
    "\n",
    "# Agrupar por 'id' y sumar la cantidad de personas ocupadas en cada hogar\n",
    "cant_ocupada_por_hogar = train_personas.groupby('id')['ocupada'].sum()\n",
    "\n",
    "# Asignar la suma de personas ocupadas a la nueva variable 'cant_ocupada' en el DataFrame original\n",
    "train_personas['cant_ocup'] = train_personas['id'].map(cant_ocupada_por_hogar)\n"
   ]
  },
  {
   "cell_type": "code",
   "execution_count": 30,
   "metadata": {},
   "outputs": [
    {
     "data": {
      "text/plain": [
       "cant_ocup\n",
       "1     189092\n",
       "2     188529\n",
       "3      75167\n",
       "0      46864\n",
       "4      28720\n",
       "5       9772\n",
       "6       3211\n",
       "7       1026\n",
       "8        469\n",
       "9        191\n",
       "10        33\n",
       "14        22\n",
       "11        13\n",
       "Name: count, dtype: int64"
      ]
     },
     "execution_count": 30,
     "metadata": {},
     "output_type": "execute_result"
    }
   ],
   "source": [
    "train_personas['cant_ocup'].value_counts()"
   ]
  },
  {
   "cell_type": "code",
   "execution_count": 34,
   "metadata": {},
   "outputs": [],
   "source": [
    "#Agregamos a la base de hogares las variables creadas en la base de personas\n",
    "\n",
    "# Agrupar las variables creadas por 'id' en la base 'train_personas'\n",
    "df_personas_agg = train_personas.groupby('id')[['mal_level_edu', 'prop_sex', 'ocup_jefe', 'cant_blanco', 'cant_ocup']].mean()\n",
    "\n",
    "# Unir la base 'train_hogares' con las variables agregadas de 'train_personas'\n",
    "train_hogares = train_hogares.merge(df_personas_agg, on='id', how='left')\n"
   ]
  },
  {
   "cell_type": "code",
   "execution_count": 37,
   "metadata": {},
   "outputs": [
    {
     "data": {
      "image/png": "[encoded data removed]",
      "text/plain": [
       "<Figure size 640x480 with 2 Axes>"
      ]
     },
     "metadata": {},
     "output_type": "display_data"
    }
   ],
   "source": [
    "#Ahora exponemos la matriz de correlacion con todas las variables. \n",
    "\n",
    "columnas = ['Ingpcug', 'Pobre', 'P5010', 'P5090', 'P5130', 'Nper', 'mal_level_edu', 'prop_sex', 'ocup_jefe', 'cant_blanco', 'cant_ocup']\n",
    "corr = train_hogares[columnas].corr()\n",
    "\n",
    "# Crear el mapa de calor con escala fija de -1 a 1\n",
    "sns.heatmap(\n",
    "    corr, xticklabels=corr.columns, yticklabels=corr.columns, cmap='coolwarm', annot=True, fmt='.2f',\n",
    "    cbar=True, square=True, annot_kws={'size': 8}, linewidth=.5,\n",
    "    vmin=-1, vmax=1  # Configurar la escala fija de colores\n",
    ")\n",
    "\n",
    "# Personalizar el gráfico\n",
    "plt.title('Diagrama de correlación', color='#E9785D')\n",
    "plt.show()"
   ]
  },
  {
   "cell_type": "markdown",
   "metadata": {},
   "source": [
    "# Desarrollo "
   ]
  },
  {
   "cell_type": "markdown",
   "metadata": {},
   "source": [
    "Nuestro objetivo ahora es armar un modelo que prediga si un hogar es pobre o no. Para eso vamos a utilizar los diferentes métodos:\n",
    "\n",
    "Árboles (CARTs), Random Forest y boosting. También se pueden utilizar Linear Regression, Logit o Elastic Net"
   ]
  },
  {
   "cell_type": "markdown",
   "metadata": {},
   "source": [
    "### Arboles (CARTs)"
   ]
  },
  {
   "cell_type": "code",
   "execution_count": 8,
   "metadata": {},
   "outputs": [],
   "source": [
    "#importamos el algoritmo para python\n",
    "from sklearn.tree import DecisionTreeRegressor\n",
    "from sklearn.tree import export_text #Para exportar arboles\n"
   ]
  },
  {
   "cell_type": "code",
   "execution_count": null,
   "metadata": {},
   "outputs": [],
   "source": [
    "#Acá reemplazar por las variables que vayamos a usar\n",
    "X = db[['DCBD', 'habitaciones']]\n",
    "y = db['price']\n",
    "\n",
    "# Create the decision tree model\n",
    "mytree = DecisionTreeRegressor(max_leaf_nodes=3) #Hay que definir el número máximo de nodos\n",
    "\n",
    "# Fit the model\n",
    "mytree.fit(X, y)"
   ]
  },
  {
   "cell_type": "markdown",
   "metadata": {},
   "source": [
    "Lo siguiente lo saqué de clase: \n",
    "\n",
    "Una vez entrenado el árbol, se puede representar mediante la combinación de las funciones  `export_text()` y `plot_tree()`. \n",
    " - La función `export_text()` la estructura del árbol  y valor medio de la variable respuesta en cada nodo.  \n",
    " - La función `plot_tree()` dibuja la estructura del árbol y muestra el número de observaciones y valor medio de la variable respuesta en cada nodo."
   ]
  },
  {
   "cell_type": "code",
   "execution_count": null,
   "metadata": {},
   "outputs": [],
   "source": [
    "#Esto debería correr bien así, ya que todo lo definimos arriba\n",
    "texto_modelo = export_text(\n",
    "                    decision_tree = mytree,\n",
    "                    feature_names = list(X.columns)\n",
    "               )\n",
    "print(texto_modelo)"
   ]
  },
  {
   "cell_type": "code",
   "execution_count": 9,
   "metadata": {},
   "outputs": [],
   "source": [
    "from sklearn.tree import plot_tree"
   ]
  },
  {
   "cell_type": "code",
   "execution_count": null,
   "metadata": {},
   "outputs": [],
   "source": [
    "# Estructura del árbol creado. Tambien deberia correr, solo le debo cambiar class_names\n",
    "# ------------------------------------------------------------------------------\n",
    "fig, ax = plt.subplots(figsize=(12, 5))\n",
    "\n",
    "print(f\"Profundidad del árbol: {mytree.get_depth()}\")\n",
    "print(f\"Número de nodos terminales: {mytree.get_n_leaves()}\")\n",
    "\n",
    "plot = plot_tree(\n",
    "            decision_tree = mytree,\n",
    "            feature_names = X.columns,\n",
    "            class_names   = 'price', #Esto habría que cambiar.  Es la variable que etiqueta. \\\\\n",
    "            #Debieramos cambiarla por Pobre/No pobre, ya que es lo q estamos clasificando aca\n",
    "            filled        = True,\n",
    "            impurity      = False,\n",
    "            fontsize      = 10,\n",
    "            precision     = 2,\n",
    "            ax            = ax\n",
    "       )"
   ]
  },
  {
   "cell_type": "markdown",
   "metadata": {},
   "source": [
    "`DecisionTreeRegressor` del módulo `sklearn.tree` tiene  hiperparámetros, que nos permitirán \"controlar\" el sobreajuste:\n",
    "\n",
    "  - `max_depth`: profundidad máxima que puede alcanzar el árbol.\n",
    "\n",
    "  - `max_leaf_nodes`: número máximo de nodos terminales.\n",
    "\n",
    "  - `min_samples_leaf`: número mínimo de observaciones que debe de tener cada uno de los nodos hijos para que se produzca la división. Si es un valor decimal se interpreta como fracción del total de observaciones de entrenamiento `ceil(min_samples_split * n_samples)`.\n",
    "\n",
    "  \n",
    "  - `ccp_alpha`=0.0 Cost complexity prunning\n",
    "  \n",
    "  - `random_state`: semilla para que los resultados sean reproducibles. Tiene que ser un valor entero.\n",
    "\n",
    "Como en todo estudio de regresión, no solo es importante ajustar el modelo, sino también cuantificar su capacidad para predecir nuevas observaciones. Para poder hacer la posterior evaluación, se dividen los datos en dos grupos, uno de entrenamiento y otro de test.\n"
   ]
  },
  {
   "cell_type": "markdown",
   "metadata": {},
   "source": [
    "# Random Forest"
   ]
  },
  {
   "cell_type": "code",
   "execution_count": 10,
   "metadata": {},
   "outputs": [],
   "source": [
    "from sklearn.ensemble import RandomForestRegressor\n",
    "import multiprocessing"
   ]
  },
  {
   "cell_type": "code",
   "execution_count": null,
   "metadata": {},
   "outputs": [],
   "source": [
    "# Creación del modelo\n",
    "# ==============================================================================\n",
    "modelo_forest = RandomForestRegressor(\n",
    "            n_estimators = 10,\n",
    "            criterion    = 'squared_error',\n",
    "            max_depth    = None,\n",
    "            max_features = 1,\n",
    "            oob_score    = False,\n",
    "            n_jobs       = -1,\n",
    "            random_state = 123\n",
    "         )\n",
    "\n",
    "# Entrenamiento del modelo\n",
    "# ==============================================================================\n",
    "modelo_forest.fit(X_train, y_train)"
   ]
  },
  {
   "cell_type": "markdown",
   "metadata": {},
   "source": [
    "Prediccion y evaluacion del modelo"
   ]
  },
  {
   "cell_type": "code",
   "execution_count": null,
   "metadata": {},
   "outputs": [],
   "source": [
    "# Error de test del modelo inicial\n",
    "# ==============================================================================\n",
    "predicciones_forest = modelo_forest.predict(X = X_test)\n",
    "\n",
    "rmse = mean_squared_error(\n",
    "        y_true  = y_test,\n",
    "        y_pred  = predicciones_forest,\n",
    "        squared = False\n",
    "       )\n",
    "print(f\"El error (rmse) de test es: {rmse}\")\n"
   ]
  },
  {
   "cell_type": "markdown",
   "metadata": {},
   "source": [
    "## Optimización de Hiperparametros"
   ]
  },
  {
   "cell_type": "markdown",
   "metadata": {},
   "source": [
    "El modelo inicial se ha entrenado utilizando 10 árboles (n_estimators=10) y manteniendo el resto de hiperparámetros con su valor por defecto. Al ser hiperparámetros, no se puede saber de antemano cuál es el valor más adecuado, la forma de identificarlos es mediante el uso de estrategias de validación, por ejemplo validación cruzada.\n",
    "\n",
    "Los modelos Random Forest tienen la ventaja de disponer del Out-of-Bag error, lo que permite obtener una estimación del error de test sin recurrir a la validación cruzada, que es computacionalmente costosa. En la implementación de RandomForestRegressor, la métrica devuelta como oob_score es el 𝑅2, si se desea otra, se tiene que recurrir al método oob_decision_function_() para obtener las predicciones y con ellas calcular la métrica de interés. Para una explicación más detallada consultar: Grid search de modelos Random Forest con out-of-bag error y early stopping.\n",
    "\n",
    "Cabe tener en cuenta que, cuando se busca el valor óptimo de un hiperparámetro con dos métricas distintas, el resultado obtenido raramente es el mismo. Lo importante es que ambas métricas identifiquen las mismas regiones de interés.\n",
    "\n",
    "\n",
    "\n",
    "   La clase RandomForestRegressor del módulo sklearn.ensemble contiene varios hiperparámetros. De entre todos ellos, destacan aquellos que detienen el crecimiento de los árboles, los que controlan el número de árboles y predictores incluidos, y los que gestionan la paralelización:\n",
    "\n",
    "   - `n_estimators`; número de árboles incluidos en el modelo.\n",
    "\n",
    "   - `max_depth`: profundidad máxima que pueden alcanzar los árboles.\n",
    "\n",
    "   - `min_samples_split`: número mínimo de observaciones que debe de tener un nodo para que pueda dividirse. Si es un valor decimal se interpreta como fracción del total de observaciones de entrenamiento ceil(min_samples_split * n_samples).\n",
    "\n",
    "   - `min_samples_leaf`: número mínimo de observaciones que debe de tener cada uno de los nodos hijos para que se produzca la división. Si es un valor decimal se interpreta como fracción del total de observaciones de entrenamiento ceil(min_samples_split * n_samples).\n",
    "\n",
    "   - `max_leaf_nodes`: número máximo de nodos terminales que pueden tener los árboles.\n",
    "\n",
    "   - `max_features`: número de predictores considerados a en cada división. Puede ser:\n",
    "        Un valor entero\n",
    "        Una fracción del total de predictores..\n",
    "        “sqrt”, raiz cuadrada del número total de predictores.\n",
    "        “log2”, log2 del número total de predictores.\n",
    "        None, utiliza todos los predictores.\n",
    "\n",
    "   - `oob_score`: Si se calcula o no el out-of-bag R^2. Por defecto es False ya que aumenta el tiempo de entrenamiento.\n",
    "\n",
    "   - `n_jobs`: número de cores empleados para el entrenamiento. En random forest los árboles se ajustan de forma independiente, por lo la paralelización reduce notablemente el tiempo de entrenamiento. Con -1 se utilizan todos los cores disponibles.\n",
    "\n",
    "   - `random_state`: semilla para que los resultados sean reproducibles. Tiene que ser un valor entero."
   ]
  },
  {
   "cell_type": "markdown",
   "metadata": {},
   "source": [
    "#### Número de árboles\n",
    "\n",
    "En Random Forest, el número de árboles no es un hiperparámetro crítico en cuanto que, añadir árboles, solo puede hacer que mejorar el resultado. En Random Forest no se produce overfitting por exceso de árboles. Sin embargo, añadir árboles una vez que la mejora se estabiliza es una perdida te recursos computacionales."
   ]
  },
  {
   "cell_type": "code",
   "execution_count": null,
   "metadata": {},
   "outputs": [],
   "source": [
    "# Validación empleando el Out-of-Bag error\n",
    "# ==============================================================================\n",
    "import warnings\n",
    "warnings.filterwarnings('ignore')\n",
    "train_scores = []\n",
    "oob_scores   = []\n",
    "\n",
    "# Valores evaluados\n",
    "estimator_range = range(10, 150, 5)\n",
    "\n",
    "# Bucle para entrenar un modelo con cada valor de n_estimators y extraer su error\n",
    "# de entrenamiento y de Out-of-Bag.\n",
    "for n_estimators in estimator_range:\n",
    "    modelo = RandomForestRegressor(\n",
    "                n_estimators = n_estimators,\n",
    "                criterion    = 'squared_error',\n",
    "                max_depth    = None,\n",
    "                max_features = 1,\n",
    "                oob_score    = True,\n",
    "                n_jobs       = -1,\n",
    "                random_state = 123\n",
    "             )\n",
    "    modelo.fit(X_train, y_train)\n",
    "    train_scores.append(modelo.score(X_train, y_train))\n",
    "    oob_scores.append(modelo.oob_score_)"
   ]
  },
  {
   "cell_type": "code",
   "execution_count": null,
   "metadata": {},
   "outputs": [],
   "source": [
    "# Gráfico con la evolución de los errores\n",
    "fig, ax = plt.subplots(figsize=(5, 3))\n",
    "ax.plot(estimator_range, train_scores, label=\"train scores\")\n",
    "ax.plot(estimator_range, oob_scores, label=\"out-of-bag scores\")\n",
    "ax.plot(estimator_range[np.argmax(oob_scores)], max(oob_scores),\n",
    "        marker='o', color = \"red\", label=\"max score\")\n",
    "ax.set_ylabel(\"R^2\")\n",
    "ax.set_xlabel(\"n_estimators\")\n",
    "ax.set_title(\"Evolución del out-of-bag-error vs número árboles\")\n",
    "plt.legend();\n",
    "print(f\"Valor óptimo de n_estimators: {estimator_range[np.argmax(oob_scores)]}\")\n",
    "warnings.filterwarnings('default')"
   ]
  },
  {
   "cell_type": "markdown",
   "metadata": {},
   "source": [
    "#### Max features\n",
    "\n",
    "El valor de `max_features` es uno de los hiperparámetros más importantes de random forest, ya que es el que permite controlar cuánto se decorrelacionan los árboles entre sí."
   ]
  },
  {
   "cell_type": "code",
   "execution_count": null,
   "metadata": {},
   "outputs": [],
   "source": [
    "# housing dataset correlation in heat map\n",
    "housing_dataset_correlation = california_housing.corr()\n",
    "plt.figure(figsize=(24,14))\n",
    "sns.heatmap(housing_dataset_correlation, annot = True)"
   ]
  },
  {
   "cell_type": "code",
   "execution_count": null,
   "metadata": {},
   "outputs": [],
   "source": [
    "# Validación empleando el Out-of-Bag error\n",
    "# ==============================================================================\n",
    "train_scores = []\n",
    "oob_scores   = []\n",
    "\n",
    "# Valores evaluados\n",
    "max_features_range = range(1, X_train.shape[1] + 1, 1)\n",
    "\n",
    "# Bucle para entrenar un modelo con cada valor de max_features y extraer su error\n",
    "# de entrenamiento y de Out-of-Bag.\n",
    "for max_features in max_features_range:\n",
    "    modelo = RandomForestRegressor(\n",
    "                n_estimators = 100,\n",
    "                criterion    = 'squared_error',\n",
    "                max_depth    = None,\n",
    "                max_features = max_features,\n",
    "                oob_score    = True,\n",
    "                n_jobs       = -1,\n",
    "                random_state = 123\n",
    "             )\n",
    "    modelo.fit(X_train, y_train)\n",
    "    train_scores.append(modelo.score(X_train, y_train))\n",
    "    oob_scores.append(modelo.oob_score_)\n",
    "    \n",
    "# Gráfico con la evolución de los errores\n",
    "fig, ax = plt.subplots(figsize=(5, 3))\n",
    "ax.plot(max_features_range, train_scores, label=\"train scores\")\n",
    "ax.plot(max_features_range, oob_scores, label=\"out-of-bag scores\")\n",
    "ax.plot(max_features_range[np.argmax(oob_scores)], max(oob_scores),\n",
    "        marker='o', color = \"red\")\n",
    "ax.set_ylabel(\"R^2\")\n",
    "ax.set_xlabel(\"max_features\")\n",
    "ax.set_title(\"Evolución del out-of-bag-error vs número de predictores\")\n",
    "plt.legend();\n",
    "print(f\"Valor óptimo de max_features: {max_features_range[np.argmax(oob_scores)]}\")"
   ]
  },
  {
   "cell_type": "markdown",
   "metadata": {},
   "source": [
    "##### Grid search\n",
    "\n",
    "Aunque el análisis individual de los hiperparámetros es útil para entender su impacto en el modelo e identificar rangos de interés, la búsqueda final no debe hacerse de forma secuencial, ya que cada hiperparámetro interacciona con los demás. Es preferible recurrir a grid search o random search para analizar varias combinaciones de hiperparámetros."
   ]
  },
  {
   "cell_type": "code",
   "execution_count": null,
   "metadata": {},
   "outputs": [],
   "source": [
    "from sklearn.model_selection import ParameterGrid\n",
    "# Grid Search Aleatorio basado en validación cruzada\n",
    "from sklearn.model_selection import RandomizedSearchCV\n",
    "from sklearn.model_selection import RepeatedKFold"
   ]
  },
  {
   "cell_type": "code",
   "execution_count": null,
   "metadata": {},
   "outputs": [],
   "source": [
    "\n",
    "# Grid de hiperparámetros evaluados\n",
    "# ==============================================================================\n",
    "param_grid = {'n_estimators': [100,150,200],\n",
    "              'max_features': [5, 7, 9],\n",
    "              'max_depth'   : [None, 3, 10, 20]\n",
    "             }\n",
    "\n",
    "# Búsqueda por grid search con validación cruzada\n",
    "# ==============================================================================\n",
    "grid_forest_cv = RandomizedSearchCV(\n",
    "            estimator  = RandomForestRegressor(random_state = 123),\n",
    "            param_distributions = param_grid,\n",
    "            scoring    = 'neg_root_mean_squared_error',\n",
    "            n_jobs     = multiprocessing.cpu_count() - 1,\n",
    "            n_iter=2, \n",
    "            cv=5, \n",
    "            random_state=42,\n",
    "            refit=True\n",
    "       )\n",
    "\n",
    "grid_forest_cv.fit(X = X_train, y = y_train)\n",
    "\n",
    "# Resultados\n",
    "# ==============================================================================\n",
    "resultados = pd.DataFrame(grid_forest_cv.cv_results_)\n",
    "resultados.filter(regex = '(param.*|mean_t|std_t)') \\\n",
    "    .drop(columns = 'params') \\\n",
    "    .sort_values('mean_test_score', ascending = False) \\\n",
    "    .head(4)\n",
    "\n",
    "\n",
    "# Mejores hiperparámetros por validación cruzada\n",
    "# ==============================================================================\n",
    "print(\"----------------------------------------\")\n",
    "print(\"Mejores hiperparámetros encontrados (cv)\")\n",
    "print(\"----------------------------------------\")\n",
    "print(grid_forest_cv.best_params_, \":\", grid_forest_cv.best_score_, grid_forest_cv.scoring)\n"
   ]
  },
  {
   "cell_type": "markdown",
   "metadata": {},
   "source": [
    "Una vez identificados los mejores hiperparámetros, se reentrena el modelo indicando los valores óptimos en sus argumentos. Si en el GridSearchCV() se indica refit=True, este reentrenamiento se hace automáticamente y el modelo resultante se encuentra almacenado en .best_estimator_."
   ]
  },
  {
   "cell_type": "code",
   "execution_count": null,
   "metadata": {},
   "outputs": [],
   "source": [
    "# Error de test del modelo final\n",
    "# ==============================================================================\n",
    "modelo_grid_forest_cv_final = grid_forest_cv.best_estimator_\n",
    "predicciones_grid_forest_cv_final = modelo_grid_forest_cv_final.predict(X = X_test)\n",
    "rmse = mean_squared_error(\n",
    "        y_true  = y_test,\n",
    "        y_pred  = predicciones_grid_forest_cv_final,\n",
    "        squared = False\n",
    "       )\n",
    "print(f\"El error (rmse) de test es: {rmse}\")"
   ]
  },
  {
   "cell_type": "markdown",
   "metadata": {},
   "source": [
    "## Boosting trees"
   ]
  },
  {
   "cell_type": "markdown",
   "metadata": {},
   "source": [
    "### Hiperparámetros\n",
    "\n",
    "- $\\lambda$ la tasa a la que aprende, los valores típicos son 0.1, 0.01 o 0.001"
   ]
  },
  {
   "cell_type": "code",
   "execution_count": null,
   "metadata": {},
   "outputs": [],
   "source": [
    "#################################333"
   ]
  },
  {
   "cell_type": "markdown",
   "metadata": {},
   "source": [
    "## Estimación Logit\n",
    "\n",
    "\\begin{align}\n",
    "p_i &=\\frac{e^{X_i\\beta}}{1+e^{X_i\\beta}}\n",
    "\\end{align}"
   ]
  },
  {
   "cell_type": "code",
   "execution_count": null,
   "metadata": {},
   "outputs": [],
   "source": [
    "from sklearn.linear_model import LogisticRegression\n",
    "from sklearn.model_selection import train_test_split\n",
    "\n",
    "\n",
    "\n",
    "# Convert 'history' and 'purpose' into dummy variables\n",
    "db_dummies = pd.get_dummies(db, columns=['history', 'purpose','foreign'], drop_first=True)\n",
    "\n",
    "# Separate the independent and dependent variables\n",
    "X = db_dummies.drop('Default', axis=1)\n",
    "y = db_dummies['Default']"
   ]
  },
  {
   "cell_type": "code",
   "execution_count": null,
   "metadata": {},
   "outputs": [],
   "source": [
    "X_train, X_test, y_train, y_test = train_test_split(\n",
    "                                        X,\n",
    "                                        y,\n",
    "                                        train_size   = 0.8,\n",
    "                                        random_state = 1234,\n",
    "                                        shuffle      = True\n",
    "                                    )"
   ]
  },
  {
   "cell_type": "code",
   "execution_count": null,
   "metadata": {},
   "outputs": [],
   "source": [
    "# Fit the logistic regression model\n",
    "logit_model = LogisticRegression(max_iter=200 )\n",
    "logit_model.fit(X_train,y_train)\n",
    "\n"
   ]
  },
  {
   "cell_type": "markdown",
   "metadata": {},
   "source": [
    "## Prediction\n",
    "\n",
    "\n",
    "\\begin{align}\n",
    "\\hat{p}_i &=\\frac{e^{X_i\\hat{\\beta}}}{1+e^{X_i\\hat{\\beta}}}\n",
    "\\end{align}"
   ]
  },
  {
   "cell_type": "code",
   "execution_count": null,
   "metadata": {},
   "outputs": [],
   "source": [
    "y_test=pd.DataFrame(y_test)\n",
    "y_test.head()"
   ]
  },
  {
   "cell_type": "code",
   "execution_count": null,
   "metadata": {},
   "outputs": [],
   "source": [
    "# Predict the probabilities\n",
    "y_test['prob_hat'] = logit_model.predict_proba(X_test)[:, 1]\n",
    "\n",
    "# Display the first few rows of the specified columns\n",
    "y_test.head(30)"
   ]
  },
  {
   "cell_type": "code",
   "execution_count": null,
   "metadata": {},
   "outputs": [],
   "source": []
  }
 ],
 "metadata": {
  "kernelspec": {
   "display_name": "ml",
   "language": "python",
   "name": "python3"
  },
  "language_info": {
   "codemirror_mode": {
    "name": "ipython",
    "version": 3
   },
   "file_extension": ".py",
   "mimetype": "text/x-python",
   "name": "python",
   "nbconvert_exporter": "python",
   "pygments_lexer": "ipython3",
   "version": "3.9.21"
  }
 },
 "nbformat": 4,
 "nbformat_minor": 2
}
